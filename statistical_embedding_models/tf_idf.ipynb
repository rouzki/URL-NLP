{
 "cells": [
  {
   "cell_type": "code",
   "execution_count": 117,
   "metadata": {
    "execution": {
     "iopub.execute_input": "2022-05-23T11:54:23.844417Z",
     "iopub.status.busy": "2022-05-23T11:54:23.844417Z",
     "iopub.status.idle": "2022-05-23T11:54:23.875415Z",
     "shell.execute_reply": "2022-05-23T11:54:23.874414Z",
     "shell.execute_reply.started": "2022-05-23T11:54:23.844417Z"
    },
    "tags": []
   },
   "outputs": [],
   "source": [
    "import pandas as pd\n",
    "import numpy as np\n",
    "import pickle\n",
    "\n",
    "from tqdm.notebook import tqdm\n",
    "tqdm.pandas()\n",
    "\n",
    "import matplotlib.pyplot as plt\n",
    "import seaborn as sns\n",
    "\n",
    "from nltk.tokenize import word_tokenize\n",
    "from nltk.corpus import stopwords"
   ]
  },
  {
   "cell_type": "code",
   "execution_count": 2,
   "metadata": {
    "execution": {
     "iopub.execute_input": "2022-05-23T08:43:08.434382Z",
     "iopub.status.busy": "2022-05-23T08:43:08.433382Z",
     "iopub.status.idle": "2022-05-23T08:43:08.451385Z",
     "shell.execute_reply": "2022-05-23T08:43:08.447383Z",
     "shell.execute_reply.started": "2022-05-23T08:43:08.434382Z"
    },
    "tags": []
   },
   "outputs": [],
   "source": [
    "DATA_PATH = '../data/'"
   ]
  },
  {
   "cell_type": "code",
   "execution_count": 3,
   "metadata": {
    "execution": {
     "iopub.execute_input": "2022-05-23T08:43:09.221853Z",
     "iopub.status.busy": "2022-05-23T08:43:09.221853Z",
     "iopub.status.idle": "2022-05-23T08:43:09.757729Z",
     "shell.execute_reply": "2022-05-23T08:43:09.756847Z",
     "shell.execute_reply.started": "2022-05-23T08:43:09.221853Z"
    },
    "tags": []
   },
   "outputs": [],
   "source": [
    "with open(DATA_PATH + 'data_cleaned.pickle', 'rb') as handle:\n",
    "    data = pickle.load(handle)"
   ]
  },
  {
   "cell_type": "code",
   "execution_count": 4,
   "metadata": {
    "execution": {
     "iopub.execute_input": "2022-05-23T08:43:09.952228Z",
     "iopub.status.busy": "2022-05-23T08:43:09.951230Z",
     "iopub.status.idle": "2022-05-23T08:43:10.010224Z",
     "shell.execute_reply": "2022-05-23T08:43:10.008222Z",
     "shell.execute_reply.started": "2022-05-23T08:43:09.952228Z"
    },
    "tags": []
   },
   "outputs": [
    {
     "data": {
      "text/html": [
       "<div>\n",
       "<style scoped>\n",
       "    .dataframe tbody tr th:only-of-type {\n",
       "        vertical-align: middle;\n",
       "    }\n",
       "\n",
       "    .dataframe tbody tr th {\n",
       "        vertical-align: top;\n",
       "    }\n",
       "\n",
       "    .dataframe thead th {\n",
       "        text-align: right;\n",
       "    }\n",
       "</style>\n",
       "<table border=\"1\" class=\"dataframe\">\n",
       "  <thead>\n",
       "    <tr style=\"text-align: right;\">\n",
       "      <th></th>\n",
       "      <th>url</th>\n",
       "      <th>target</th>\n",
       "      <th>day</th>\n",
       "      <th>url_cleaned</th>\n",
       "      <th>target_cleaned</th>\n",
       "    </tr>\n",
       "  </thead>\n",
       "  <tbody>\n",
       "    <tr>\n",
       "      <th>0</th>\n",
       "      <td>https://www.cdiscount.com/bricolage/electricit...</td>\n",
       "      <td>[1831, 1751, 1192, 745, 1703]</td>\n",
       "      <td>4</td>\n",
       "      <td>cdiscount bricolage electricite batterie plomb...</td>\n",
       "      <td>[1192]</td>\n",
       "    </tr>\n",
       "    <tr>\n",
       "      <th>1</th>\n",
       "      <td>https://www.mystalk.net/profile/vitoriafcorrea</td>\n",
       "      <td>[847, 978, 582, 1381, 529]</td>\n",
       "      <td>4</td>\n",
       "      <td>mystalk profile vitoriafcorrea</td>\n",
       "      <td>[978, 582, 529]</td>\n",
       "    </tr>\n",
       "    <tr>\n",
       "      <th>2</th>\n",
       "      <td>https://www.lequipe.fr/Tennis/TennisFicheJoueu...</td>\n",
       "      <td>[20, 1077, 294]</td>\n",
       "      <td>4</td>\n",
       "      <td>lequipe Tennis Tennis Fiche</td>\n",
       "      <td>[1077, 294]</td>\n",
       "    </tr>\n",
       "    <tr>\n",
       "      <th>3</th>\n",
       "      <td>http://m.jeuxvideo.com/forums/42-32625-6018005...</td>\n",
       "      <td>[381, 935, 1343, 622, 933]</td>\n",
       "      <td>4</td>\n",
       "      <td>jeuxvideo forums guilde fourmi legionnaire rec...</td>\n",
       "      <td>[381, 935, 1343, 622, 933]</td>\n",
       "    </tr>\n",
       "    <tr>\n",
       "      <th>4</th>\n",
       "      <td>https://context.reverso.net/traduction/espagno...</td>\n",
       "      <td>[692, 1265, 725, 1264, 1266]</td>\n",
       "      <td>4</td>\n",
       "      <td>context reverso traduction espagnol francais Para</td>\n",
       "      <td>[692, 1265, 725, 1264, 1266]</td>\n",
       "    </tr>\n",
       "    <tr>\n",
       "      <th>...</th>\n",
       "      <td>...</td>\n",
       "      <td>...</td>\n",
       "      <td>...</td>\n",
       "      <td>...</td>\n",
       "      <td>...</td>\n",
       "    </tr>\n",
       "    <tr>\n",
       "      <th>63234</th>\n",
       "      <td>http://www.allocine.fr/personne/fichepersonne_...</td>\n",
       "      <td>[1107, 1096, 1310, 1106, 184]</td>\n",
       "      <td>16</td>\n",
       "      <td>allocine personne fichepersonne gen cpersonne</td>\n",
       "      <td>[1107, 1096, 1310, 1106, 184]</td>\n",
       "    </tr>\n",
       "    <tr>\n",
       "      <th>63235</th>\n",
       "      <td>https://www.sto.cx/book-186042-471.html</td>\n",
       "      <td>[608, 617, 1033, 220, 1021]</td>\n",
       "      <td>1</td>\n",
       "      <td>sto book</td>\n",
       "      <td>[608, 617, 220, 1021]</td>\n",
       "    </tr>\n",
       "    <tr>\n",
       "      <th>63236</th>\n",
       "      <td>http://jeu.info/solution/4-images-1-mot-niveau...</td>\n",
       "      <td>[381, 925, 622, 1494, 937]</td>\n",
       "      <td>16</td>\n",
       "      <td>jeu info solution images mot niveau</td>\n",
       "      <td>[381, 925, 622, 1494, 937]</td>\n",
       "    </tr>\n",
       "    <tr>\n",
       "      <th>63237</th>\n",
       "      <td>https://grossesse.aufeminin.com/forum/levres-g...</td>\n",
       "      <td>[638, 253, 419, 558, 401]</td>\n",
       "      <td>1</td>\n",
       "      <td>grossesse aufeminin forum levres gonflees acco...</td>\n",
       "      <td>[253, 419, 558, 401]</td>\n",
       "    </tr>\n",
       "    <tr>\n",
       "      <th>63238</th>\n",
       "      <td>https://www.conforama.fr/chambre-literie/liter...</td>\n",
       "      <td>[1367, 1372, 1368, 1370, 1369]</td>\n",
       "      <td>16</td>\n",
       "      <td>conforama chambre literie literie sommier cadr...</td>\n",
       "      <td>[1367, 1372, 1368, 1370, 1369]</td>\n",
       "    </tr>\n",
       "  </tbody>\n",
       "</table>\n",
       "<p>63239 rows × 5 columns</p>\n",
       "</div>"
      ],
      "text/plain": [
       "                                                     url  \\\n",
       "0      https://www.cdiscount.com/bricolage/electricit...   \n",
       "1         https://www.mystalk.net/profile/vitoriafcorrea   \n",
       "2      https://www.lequipe.fr/Tennis/TennisFicheJoueu...   \n",
       "3      http://m.jeuxvideo.com/forums/42-32625-6018005...   \n",
       "4      https://context.reverso.net/traduction/espagno...   \n",
       "...                                                  ...   \n",
       "63234  http://www.allocine.fr/personne/fichepersonne_...   \n",
       "63235            https://www.sto.cx/book-186042-471.html   \n",
       "63236  http://jeu.info/solution/4-images-1-mot-niveau...   \n",
       "63237  https://grossesse.aufeminin.com/forum/levres-g...   \n",
       "63238  https://www.conforama.fr/chambre-literie/liter...   \n",
       "\n",
       "                               target  day  \\\n",
       "0       [1831, 1751, 1192, 745, 1703]    4   \n",
       "1          [847, 978, 582, 1381, 529]    4   \n",
       "2                     [20, 1077, 294]    4   \n",
       "3          [381, 935, 1343, 622, 933]    4   \n",
       "4        [692, 1265, 725, 1264, 1266]    4   \n",
       "...                               ...  ...   \n",
       "63234   [1107, 1096, 1310, 1106, 184]   16   \n",
       "63235     [608, 617, 1033, 220, 1021]    1   \n",
       "63236      [381, 925, 622, 1494, 937]   16   \n",
       "63237       [638, 253, 419, 558, 401]    1   \n",
       "63238  [1367, 1372, 1368, 1370, 1369]   16   \n",
       "\n",
       "                                             url_cleaned  \\\n",
       "0      cdiscount bricolage electricite batterie plomb...   \n",
       "1                         mystalk profile vitoriafcorrea   \n",
       "2                            lequipe Tennis Tennis Fiche   \n",
       "3      jeuxvideo forums guilde fourmi legionnaire rec...   \n",
       "4      context reverso traduction espagnol francais Para   \n",
       "...                                                  ...   \n",
       "63234      allocine personne fichepersonne gen cpersonne   \n",
       "63235                                           sto book   \n",
       "63236                jeu info solution images mot niveau   \n",
       "63237  grossesse aufeminin forum levres gonflees acco...   \n",
       "63238  conforama chambre literie literie sommier cadr...   \n",
       "\n",
       "                       target_cleaned  \n",
       "0                              [1192]  \n",
       "1                     [978, 582, 529]  \n",
       "2                         [1077, 294]  \n",
       "3          [381, 935, 1343, 622, 933]  \n",
       "4        [692, 1265, 725, 1264, 1266]  \n",
       "...                               ...  \n",
       "63234   [1107, 1096, 1310, 1106, 184]  \n",
       "63235           [608, 617, 220, 1021]  \n",
       "63236      [381, 925, 622, 1494, 937]  \n",
       "63237            [253, 419, 558, 401]  \n",
       "63238  [1367, 1372, 1368, 1370, 1369]  \n",
       "\n",
       "[63239 rows x 5 columns]"
      ]
     },
     "execution_count": 4,
     "metadata": {},
     "output_type": "execute_result"
    }
   ],
   "source": [
    "data"
   ]
  },
  {
   "cell_type": "code",
   "execution_count": 10,
   "metadata": {
    "execution": {
     "iopub.execute_input": "2022-05-23T09:05:33.038357Z",
     "iopub.status.busy": "2022-05-23T09:05:33.037357Z",
     "iopub.status.idle": "2022-05-23T09:05:34.126558Z",
     "shell.execute_reply": "2022-05-23T09:05:34.125559Z",
     "shell.execute_reply.started": "2022-05-23T09:05:33.038357Z"
    }
   },
   "outputs": [],
   "source": [
    "from nltk.util import ngrams\n",
    "from sklearn.feature_extraction.text import CountVectorizer\n",
    "from collections import  Counter\n",
    "\n",
    "def get_top_ngram(corpus, n=None):\n",
    "    vec = CountVectorizer(ngram_range=(n, n)).fit(corpus)\n",
    "    bag_of_words = vec.transform(corpus)\n",
    "    sum_words = bag_of_words.sum(axis=0) \n",
    "    words_freq = [(word, sum_words[0, idx]) \n",
    "                  for word, idx in vec.vocabulary_.items()]\n",
    "    words_freq =sorted(words_freq, key = lambda x: x[1], reverse=True)\n",
    "    return words_freq[:10]"
   ]
  },
  {
   "cell_type": "code",
   "execution_count": 14,
   "metadata": {
    "execution": {
     "iopub.execute_input": "2022-05-23T09:06:36.793932Z",
     "iopub.status.busy": "2022-05-23T09:06:36.792932Z",
     "iopub.status.idle": "2022-05-23T09:06:39.891248Z",
     "shell.execute_reply": "2022-05-23T09:06:39.890248Z",
     "shell.execute_reply.started": "2022-05-23T09:06:36.793932Z"
    },
    "tags": []
   },
   "outputs": [
    {
     "data": {
      "text/plain": [
       "<AxesSubplot:>"
      ]
     },
     "execution_count": 14,
     "metadata": {},
     "output_type": "execute_result"
    },
    {
     "data": {
      "image/png": "[encoded data removed]",
      "text/plain": [
       "<Figure size 1080x576 with 1 Axes>"
      ]
     },
     "metadata": {
      "needs_background": "light"
     },
     "output_type": "display_data"
    }
   ],
   "source": [
    "### 2-grams top plotting\n",
    "top_n_bigrams= get_top_ngram(data['url_cleaned'], 2)[:10] \n",
    "x, y = map(list,zip(*top_n_bigrams))\n",
    "plt.figure(figsize=(15,8))\n",
    "sns.barplot(x=y,y=x)"
   ]
  },
  {
   "cell_type": "code",
   "execution_count": 16,
   "metadata": {
    "execution": {
     "iopub.execute_input": "2022-05-23T09:07:24.275560Z",
     "iopub.status.busy": "2022-05-23T09:07:24.275560Z",
     "iopub.status.idle": "2022-05-23T09:07:27.258757Z",
     "shell.execute_reply": "2022-05-23T09:07:27.257789Z",
     "shell.execute_reply.started": "2022-05-23T09:07:24.275560Z"
    },
    "tags": []
   },
   "outputs": [
    {
     "data": {
      "text/plain": [
       "<AxesSubplot:>"
      ]
     },
     "execution_count": 16,
     "metadata": {},
     "output_type": "execute_result"
    },
    {
     "data": {
      "image/png": "[encoded data removed]",
      "text/plain": [
       "<Figure size 1080x576 with 1 Axes>"
      ]
     },
     "metadata": {
      "needs_background": "light"
     },
     "output_type": "display_data"
    }
   ],
   "source": [
    "### 3-grams top plotting\n",
    "top_n_bigrams= get_top_ngram(data['url_cleaned'], 3)[:10] \n",
    "x, y = map(list,zip(*top_n_bigrams))\n",
    "plt.figure(figsize=(15,8))\n",
    "sns.barplot(x=y,y=x)"
   ]
  },
  {
   "cell_type": "code",
   "execution_count": 38,
   "metadata": {
    "execution": {
     "iopub.execute_input": "2022-05-23T09:17:47.107723Z",
     "iopub.status.busy": "2022-05-23T09:17:47.106723Z",
     "iopub.status.idle": "2022-05-23T09:17:54.745395Z",
     "shell.execute_reply": "2022-05-23T09:17:54.744394Z",
     "shell.execute_reply.started": "2022-05-23T09:17:47.107723Z"
    },
    "tags": []
   },
   "outputs": [
    {
     "data": {
      "application/vnd.jupyter.widget-view+json": {
       "model_id": "baf7b439d40e4792bb8656a8a75abc4d",
       "version_major": 2,
       "version_minor": 0
      },
      "text/plain": [
       "  0%|          | 0/63239 [00:00<?, ?it/s]"
      ]
     },
     "metadata": {},
     "output_type": "display_data"
    },
    {
     "data": {
      "text/html": [
       "<div>\n",
       "<style scoped>\n",
       "    .dataframe tbody tr th:only-of-type {\n",
       "        vertical-align: middle;\n",
       "    }\n",
       "\n",
       "    .dataframe tbody tr th {\n",
       "        vertical-align: top;\n",
       "    }\n",
       "\n",
       "    .dataframe thead th {\n",
       "        text-align: right;\n",
       "    }\n",
       "</style>\n",
       "<table border=\"1\" class=\"dataframe\">\n",
       "  <thead>\n",
       "    <tr style=\"text-align: right;\">\n",
       "      <th></th>\n",
       "      <th>url</th>\n",
       "      <th>target</th>\n",
       "      <th>day</th>\n",
       "      <th>url_cleaned</th>\n",
       "      <th>target_cleaned</th>\n",
       "      <th>url_tokenized</th>\n",
       "      <th>url_processed</th>\n",
       "    </tr>\n",
       "  </thead>\n",
       "  <tbody>\n",
       "    <tr>\n",
       "      <th>0</th>\n",
       "      <td>https://www.cdiscount.com/bricolage/electricit...</td>\n",
       "      <td>[1831, 1751, 1192, 745, 1703]</td>\n",
       "      <td>4</td>\n",
       "      <td>cdiscount bricolage electricite batterie plomb...</td>\n",
       "      <td>[1192]</td>\n",
       "      <td>[cdiscount, bricolage, electricite, batterie, ...</td>\n",
       "      <td>[cdiscount, bricolage, electricite, batterie, ...</td>\n",
       "    </tr>\n",
       "    <tr>\n",
       "      <th>1</th>\n",
       "      <td>https://www.mystalk.net/profile/vitoriafcorrea</td>\n",
       "      <td>[847, 978, 582, 1381, 529]</td>\n",
       "      <td>4</td>\n",
       "      <td>mystalk profile vitoriafcorrea</td>\n",
       "      <td>[978, 582, 529]</td>\n",
       "      <td>[mystalk, profile, vitoriafcorrea]</td>\n",
       "      <td>[mystalk, profile, vitoriafcorrea]</td>\n",
       "    </tr>\n",
       "    <tr>\n",
       "      <th>2</th>\n",
       "      <td>https://www.lequipe.fr/Tennis/TennisFicheJoueu...</td>\n",
       "      <td>[20, 1077, 294]</td>\n",
       "      <td>4</td>\n",
       "      <td>lequipe Tennis Tennis Fiche</td>\n",
       "      <td>[1077, 294]</td>\n",
       "      <td>[lequipe, tennis, tennis, fiche]</td>\n",
       "      <td>[lequipe, Tennis, Tennis, Fiche]</td>\n",
       "    </tr>\n",
       "    <tr>\n",
       "      <th>3</th>\n",
       "      <td>http://m.jeuxvideo.com/forums/42-32625-6018005...</td>\n",
       "      <td>[381, 935, 1343, 622, 933]</td>\n",
       "      <td>4</td>\n",
       "      <td>jeuxvideo forums guilde fourmi legionnaire rec...</td>\n",
       "      <td>[381, 935, 1343, 622, 933]</td>\n",
       "      <td>[jeuxvideo, forums, guilde, fourmi, legionnair...</td>\n",
       "      <td>[jeuxvideo, forums, guilde, fourmi, legionnair...</td>\n",
       "    </tr>\n",
       "    <tr>\n",
       "      <th>4</th>\n",
       "      <td>https://context.reverso.net/traduction/espagno...</td>\n",
       "      <td>[692, 1265, 725, 1264, 1266]</td>\n",
       "      <td>4</td>\n",
       "      <td>context reverso traduction espagnol francais Para</td>\n",
       "      <td>[692, 1265, 725, 1264, 1266]</td>\n",
       "      <td>[context, reverso, traduction, espagnol, franc...</td>\n",
       "      <td>[context, reverso, traduction, espagnol, franc...</td>\n",
       "    </tr>\n",
       "  </tbody>\n",
       "</table>\n",
       "</div>"
      ],
      "text/plain": [
       "                                                 url  \\\n",
       "0  https://www.cdiscount.com/bricolage/electricit...   \n",
       "1     https://www.mystalk.net/profile/vitoriafcorrea   \n",
       "2  https://www.lequipe.fr/Tennis/TennisFicheJoueu...   \n",
       "3  http://m.jeuxvideo.com/forums/42-32625-6018005...   \n",
       "4  https://context.reverso.net/traduction/espagno...   \n",
       "\n",
       "                          target  day  \\\n",
       "0  [1831, 1751, 1192, 745, 1703]    4   \n",
       "1     [847, 978, 582, 1381, 529]    4   \n",
       "2                [20, 1077, 294]    4   \n",
       "3     [381, 935, 1343, 622, 933]    4   \n",
       "4   [692, 1265, 725, 1264, 1266]    4   \n",
       "\n",
       "                                         url_cleaned  \\\n",
       "0  cdiscount bricolage electricite batterie plomb...   \n",
       "1                     mystalk profile vitoriafcorrea   \n",
       "2                        lequipe Tennis Tennis Fiche   \n",
       "3  jeuxvideo forums guilde fourmi legionnaire rec...   \n",
       "4  context reverso traduction espagnol francais Para   \n",
       "\n",
       "                 target_cleaned  \\\n",
       "0                        [1192]   \n",
       "1               [978, 582, 529]   \n",
       "2                   [1077, 294]   \n",
       "3    [381, 935, 1343, 622, 933]   \n",
       "4  [692, 1265, 725, 1264, 1266]   \n",
       "\n",
       "                                       url_tokenized  \\\n",
       "0  [cdiscount, bricolage, electricite, batterie, ...   \n",
       "1                 [mystalk, profile, vitoriafcorrea]   \n",
       "2                   [lequipe, tennis, tennis, fiche]   \n",
       "3  [jeuxvideo, forums, guilde, fourmi, legionnair...   \n",
       "4  [context, reverso, traduction, espagnol, franc...   \n",
       "\n",
       "                                       url_processed  \n",
       "0  [cdiscount, bricolage, electricite, batterie, ...  \n",
       "1                 [mystalk, profile, vitoriafcorrea]  \n",
       "2                   [lequipe, Tennis, Tennis, Fiche]  \n",
       "3  [jeuxvideo, forums, guilde, fourmi, legionnair...  \n",
       "4  [context, reverso, traduction, espagnol, franc...  "
      ]
     },
     "execution_count": 38,
     "metadata": {},
     "output_type": "execute_result"
    }
   ],
   "source": [
    "# Tokenization\n",
    "data['url_processed'] = data['url_cleaned'].progress_apply(word_tokenize)\n",
    "data.head()"
   ]
  },
  {
   "cell_type": "code",
   "execution_count": 39,
   "metadata": {
    "execution": {
     "iopub.execute_input": "2022-05-23T09:17:54.746393Z",
     "iopub.status.busy": "2022-05-23T09:17:54.746393Z",
     "iopub.status.idle": "2022-05-23T09:17:55.029288Z",
     "shell.execute_reply": "2022-05-23T09:17:55.028287Z",
     "shell.execute_reply.started": "2022-05-23T09:17:54.746393Z"
    },
    "tags": []
   },
   "outputs": [
    {
     "data": {
      "application/vnd.jupyter.widget-view+json": {
       "model_id": "5771f53ab06945dba06ffa0d96a8d31d",
       "version_major": 2,
       "version_minor": 0
      },
      "text/plain": [
       "  0%|          | 0/63239 [00:00<?, ?it/s]"
      ]
     },
     "metadata": {},
     "output_type": "display_data"
    }
   ],
   "source": [
    "data['url_processed'] = data['url_processed'].progress_apply(lambda x: [word.lower() for word in x])"
   ]
  },
  {
   "cell_type": "code",
   "execution_count": 40,
   "metadata": {
    "execution": {
     "iopub.execute_input": "2022-05-23T09:18:00.689900Z",
     "iopub.status.busy": "2022-05-23T09:18:00.688897Z",
     "iopub.status.idle": "2022-05-23T09:18:01.115148Z",
     "shell.execute_reply": "2022-05-23T09:18:01.114133Z",
     "shell.execute_reply.started": "2022-05-23T09:18:00.689900Z"
    },
    "tags": []
   },
   "outputs": [
    {
     "data": {
      "application/vnd.jupyter.widget-view+json": {
       "model_id": "be24b0a1a7214774bde58342421b9e21",
       "version_major": 2,
       "version_minor": 0
      },
      "text/plain": [
       "  0%|          | 0/63239 [00:00<?, ?it/s]"
      ]
     },
     "metadata": {},
     "output_type": "display_data"
    }
   ],
   "source": [
    "import string\n",
    "# Removing Punctuations\n",
    "punc = string.punctuation\n",
    "data['url_processed'] = data['url_processed'].progress_apply(lambda x: [word for word in x if word not in punc])"
   ]
  },
  {
   "cell_type": "code",
   "execution_count": 41,
   "metadata": {
    "execution": {
     "iopub.execute_input": "2022-05-23T09:18:07.100344Z",
     "iopub.status.busy": "2022-05-23T09:18:07.100344Z",
     "iopub.status.idle": "2022-05-23T09:18:07.551425Z",
     "shell.execute_reply": "2022-05-23T09:18:07.550429Z",
     "shell.execute_reply.started": "2022-05-23T09:18:07.100344Z"
    },
    "tags": []
   },
   "outputs": [
    {
     "data": {
      "application/vnd.jupyter.widget-view+json": {
       "model_id": "29c9f00501a64ac3b5f8c58dff79fede",
       "version_major": 2,
       "version_minor": 0
      },
      "text/plain": [
       "  0%|          | 0/63239 [00:00<?, ?it/s]"
      ]
     },
     "metadata": {},
     "output_type": "display_data"
    },
    {
     "data": {
      "text/html": [
       "<div>\n",
       "<style scoped>\n",
       "    .dataframe tbody tr th:only-of-type {\n",
       "        vertical-align: middle;\n",
       "    }\n",
       "\n",
       "    .dataframe tbody tr th {\n",
       "        vertical-align: top;\n",
       "    }\n",
       "\n",
       "    .dataframe thead th {\n",
       "        text-align: right;\n",
       "    }\n",
       "</style>\n",
       "<table border=\"1\" class=\"dataframe\">\n",
       "  <thead>\n",
       "    <tr style=\"text-align: right;\">\n",
       "      <th></th>\n",
       "      <th>url</th>\n",
       "      <th>target</th>\n",
       "      <th>day</th>\n",
       "      <th>url_cleaned</th>\n",
       "      <th>target_cleaned</th>\n",
       "      <th>url_tokenized</th>\n",
       "      <th>url_processed</th>\n",
       "    </tr>\n",
       "  </thead>\n",
       "  <tbody>\n",
       "    <tr>\n",
       "      <th>0</th>\n",
       "      <td>https://www.cdiscount.com/bricolage/electricit...</td>\n",
       "      <td>[1831, 1751, 1192, 745, 1703]</td>\n",
       "      <td>4</td>\n",
       "      <td>cdiscount bricolage electricite batterie plomb...</td>\n",
       "      <td>[1192]</td>\n",
       "      <td>[cdiscount, bricolage, electricite, batterie, ...</td>\n",
       "      <td>[cdiscount, bricolage, electricite, batterie, ...</td>\n",
       "    </tr>\n",
       "    <tr>\n",
       "      <th>1</th>\n",
       "      <td>https://www.mystalk.net/profile/vitoriafcorrea</td>\n",
       "      <td>[847, 978, 582, 1381, 529]</td>\n",
       "      <td>4</td>\n",
       "      <td>mystalk profile vitoriafcorrea</td>\n",
       "      <td>[978, 582, 529]</td>\n",
       "      <td>[mystalk, profile, vitoriafcorrea]</td>\n",
       "      <td>[mystalk, profile, vitoriafcorrea]</td>\n",
       "    </tr>\n",
       "    <tr>\n",
       "      <th>2</th>\n",
       "      <td>https://www.lequipe.fr/Tennis/TennisFicheJoueu...</td>\n",
       "      <td>[20, 1077, 294]</td>\n",
       "      <td>4</td>\n",
       "      <td>lequipe Tennis Tennis Fiche</td>\n",
       "      <td>[1077, 294]</td>\n",
       "      <td>[lequipe, tennis, tennis, fiche]</td>\n",
       "      <td>[lequipe, tennis, tennis, fiche]</td>\n",
       "    </tr>\n",
       "    <tr>\n",
       "      <th>3</th>\n",
       "      <td>http://m.jeuxvideo.com/forums/42-32625-6018005...</td>\n",
       "      <td>[381, 935, 1343, 622, 933]</td>\n",
       "      <td>4</td>\n",
       "      <td>jeuxvideo forums guilde fourmi legionnaire rec...</td>\n",
       "      <td>[381, 935, 1343, 622, 933]</td>\n",
       "      <td>[jeuxvideo, forums, guilde, fourmi, legionnair...</td>\n",
       "      <td>[jeuxvideo, forums, guilde, fourmi, legionnair...</td>\n",
       "    </tr>\n",
       "    <tr>\n",
       "      <th>4</th>\n",
       "      <td>https://context.reverso.net/traduction/espagno...</td>\n",
       "      <td>[692, 1265, 725, 1264, 1266]</td>\n",
       "      <td>4</td>\n",
       "      <td>context reverso traduction espagnol francais Para</td>\n",
       "      <td>[692, 1265, 725, 1264, 1266]</td>\n",
       "      <td>[context, reverso, traduction, espagnol, franc...</td>\n",
       "      <td>[context, reverso, traduction, espagnol, franc...</td>\n",
       "    </tr>\n",
       "  </tbody>\n",
       "</table>\n",
       "</div>"
      ],
      "text/plain": [
       "                                                 url  \\\n",
       "0  https://www.cdiscount.com/bricolage/electricit...   \n",
       "1     https://www.mystalk.net/profile/vitoriafcorrea   \n",
       "2  https://www.lequipe.fr/Tennis/TennisFicheJoueu...   \n",
       "3  http://m.jeuxvideo.com/forums/42-32625-6018005...   \n",
       "4  https://context.reverso.net/traduction/espagno...   \n",
       "\n",
       "                          target  day  \\\n",
       "0  [1831, 1751, 1192, 745, 1703]    4   \n",
       "1     [847, 978, 582, 1381, 529]    4   \n",
       "2                [20, 1077, 294]    4   \n",
       "3     [381, 935, 1343, 622, 933]    4   \n",
       "4   [692, 1265, 725, 1264, 1266]    4   \n",
       "\n",
       "                                         url_cleaned  \\\n",
       "0  cdiscount bricolage electricite batterie plomb...   \n",
       "1                     mystalk profile vitoriafcorrea   \n",
       "2                        lequipe Tennis Tennis Fiche   \n",
       "3  jeuxvideo forums guilde fourmi legionnaire rec...   \n",
       "4  context reverso traduction espagnol francais Para   \n",
       "\n",
       "                 target_cleaned  \\\n",
       "0                        [1192]   \n",
       "1               [978, 582, 529]   \n",
       "2                   [1077, 294]   \n",
       "3    [381, 935, 1343, 622, 933]   \n",
       "4  [692, 1265, 725, 1264, 1266]   \n",
       "\n",
       "                                       url_tokenized  \\\n",
       "0  [cdiscount, bricolage, electricite, batterie, ...   \n",
       "1                 [mystalk, profile, vitoriafcorrea]   \n",
       "2                   [lequipe, tennis, tennis, fiche]   \n",
       "3  [jeuxvideo, forums, guilde, fourmi, legionnair...   \n",
       "4  [context, reverso, traduction, espagnol, franc...   \n",
       "\n",
       "                                       url_processed  \n",
       "0  [cdiscount, bricolage, electricite, batterie, ...  \n",
       "1                 [mystalk, profile, vitoriafcorrea]  \n",
       "2                   [lequipe, tennis, tennis, fiche]  \n",
       "3  [jeuxvideo, forums, guilde, fourmi, legionnair...  \n",
       "4  [context, reverso, traduction, espagnol, franc...  "
      ]
     },
     "execution_count": 41,
     "metadata": {},
     "output_type": "execute_result"
    }
   ],
   "source": [
    "# Removing Stopwords\n",
    "stop_words = set(stopwords.words('english') + stopwords.words('french'))\n",
    "data['url_processed'] = data['url_processed'].progress_apply(lambda x: [word for word in x if word not in stop_words])\n",
    "data.head()"
   ]
  },
  {
   "cell_type": "code",
   "execution_count": 43,
   "metadata": {
    "execution": {
     "iopub.execute_input": "2022-05-23T09:18:53.664382Z",
     "iopub.status.busy": "2022-05-23T09:18:53.663336Z",
     "iopub.status.idle": "2022-05-23T09:18:53.943764Z",
     "shell.execute_reply": "2022-05-23T09:18:53.942724Z",
     "shell.execute_reply.started": "2022-05-23T09:18:53.664382Z"
    },
    "tags": []
   },
   "outputs": [
    {
     "data": {
      "application/vnd.jupyter.widget-view+json": {
       "model_id": "b24348df256245f5b54f1ff3fcfaa1ea",
       "version_major": 2,
       "version_minor": 0
      },
      "text/plain": [
       "  0%|          | 0/63239 [00:00<?, ?it/s]"
      ]
     },
     "metadata": {},
     "output_type": "display_data"
    },
    {
     "data": {
      "text/html": [
       "<div>\n",
       "<style scoped>\n",
       "    .dataframe tbody tr th:only-of-type {\n",
       "        vertical-align: middle;\n",
       "    }\n",
       "\n",
       "    .dataframe tbody tr th {\n",
       "        vertical-align: top;\n",
       "    }\n",
       "\n",
       "    .dataframe thead th {\n",
       "        text-align: right;\n",
       "    }\n",
       "</style>\n",
       "<table border=\"1\" class=\"dataframe\">\n",
       "  <thead>\n",
       "    <tr style=\"text-align: right;\">\n",
       "      <th></th>\n",
       "      <th>url</th>\n",
       "      <th>target</th>\n",
       "      <th>day</th>\n",
       "      <th>url_cleaned</th>\n",
       "      <th>target_cleaned</th>\n",
       "      <th>url_tokenized</th>\n",
       "      <th>url_processed</th>\n",
       "    </tr>\n",
       "  </thead>\n",
       "  <tbody>\n",
       "    <tr>\n",
       "      <th>0</th>\n",
       "      <td>https://www.cdiscount.com/bricolage/electricit...</td>\n",
       "      <td>[1831, 1751, 1192, 745, 1703]</td>\n",
       "      <td>4</td>\n",
       "      <td>cdiscount bricolage electricite batterie plomb...</td>\n",
       "      <td>[1192]</td>\n",
       "      <td>[cdiscount, bricolage, electricite, batterie, ...</td>\n",
       "      <td>cdiscount bricolage electricite batterie plomb...</td>\n",
       "    </tr>\n",
       "    <tr>\n",
       "      <th>1</th>\n",
       "      <td>https://www.mystalk.net/profile/vitoriafcorrea</td>\n",
       "      <td>[847, 978, 582, 1381, 529]</td>\n",
       "      <td>4</td>\n",
       "      <td>mystalk profile vitoriafcorrea</td>\n",
       "      <td>[978, 582, 529]</td>\n",
       "      <td>[mystalk, profile, vitoriafcorrea]</td>\n",
       "      <td>mystalk profile vitoriafcorrea</td>\n",
       "    </tr>\n",
       "    <tr>\n",
       "      <th>2</th>\n",
       "      <td>https://www.lequipe.fr/Tennis/TennisFicheJoueu...</td>\n",
       "      <td>[20, 1077, 294]</td>\n",
       "      <td>4</td>\n",
       "      <td>lequipe Tennis Tennis Fiche</td>\n",
       "      <td>[1077, 294]</td>\n",
       "      <td>[lequipe, tennis, tennis, fiche]</td>\n",
       "      <td>lequipe tennis tennis fiche</td>\n",
       "    </tr>\n",
       "    <tr>\n",
       "      <th>3</th>\n",
       "      <td>http://m.jeuxvideo.com/forums/42-32625-6018005...</td>\n",
       "      <td>[381, 935, 1343, 622, 933]</td>\n",
       "      <td>4</td>\n",
       "      <td>jeuxvideo forums guilde fourmi legionnaire rec...</td>\n",
       "      <td>[381, 935, 1343, 622, 933]</td>\n",
       "      <td>[jeuxvideo, forums, guilde, fourmi, legionnair...</td>\n",
       "      <td>jeuxvideo forums guilde fourmi legionnaire rec...</td>\n",
       "    </tr>\n",
       "    <tr>\n",
       "      <th>4</th>\n",
       "      <td>https://context.reverso.net/traduction/espagno...</td>\n",
       "      <td>[692, 1265, 725, 1264, 1266]</td>\n",
       "      <td>4</td>\n",
       "      <td>context reverso traduction espagnol francais Para</td>\n",
       "      <td>[692, 1265, 725, 1264, 1266]</td>\n",
       "      <td>[context, reverso, traduction, espagnol, franc...</td>\n",
       "      <td>context reverso traduction espagnol francais para</td>\n",
       "    </tr>\n",
       "  </tbody>\n",
       "</table>\n",
       "</div>"
      ],
      "text/plain": [
       "                                                 url  \\\n",
       "0  https://www.cdiscount.com/bricolage/electricit...   \n",
       "1     https://www.mystalk.net/profile/vitoriafcorrea   \n",
       "2  https://www.lequipe.fr/Tennis/TennisFicheJoueu...   \n",
       "3  http://m.jeuxvideo.com/forums/42-32625-6018005...   \n",
       "4  https://context.reverso.net/traduction/espagno...   \n",
       "\n",
       "                          target  day  \\\n",
       "0  [1831, 1751, 1192, 745, 1703]    4   \n",
       "1     [847, 978, 582, 1381, 529]    4   \n",
       "2                [20, 1077, 294]    4   \n",
       "3     [381, 935, 1343, 622, 933]    4   \n",
       "4   [692, 1265, 725, 1264, 1266]    4   \n",
       "\n",
       "                                         url_cleaned  \\\n",
       "0  cdiscount bricolage electricite batterie plomb...   \n",
       "1                     mystalk profile vitoriafcorrea   \n",
       "2                        lequipe Tennis Tennis Fiche   \n",
       "3  jeuxvideo forums guilde fourmi legionnaire rec...   \n",
       "4  context reverso traduction espagnol francais Para   \n",
       "\n",
       "                 target_cleaned  \\\n",
       "0                        [1192]   \n",
       "1               [978, 582, 529]   \n",
       "2                   [1077, 294]   \n",
       "3    [381, 935, 1343, 622, 933]   \n",
       "4  [692, 1265, 725, 1264, 1266]   \n",
       "\n",
       "                                       url_tokenized  \\\n",
       "0  [cdiscount, bricolage, electricite, batterie, ...   \n",
       "1                 [mystalk, profile, vitoriafcorrea]   \n",
       "2                   [lequipe, tennis, tennis, fiche]   \n",
       "3  [jeuxvideo, forums, guilde, fourmi, legionnair...   \n",
       "4  [context, reverso, traduction, espagnol, franc...   \n",
       "\n",
       "                                       url_processed  \n",
       "0  cdiscount bricolage electricite batterie plomb...  \n",
       "1                     mystalk profile vitoriafcorrea  \n",
       "2                        lequipe tennis tennis fiche  \n",
       "3  jeuxvideo forums guilde fourmi legionnaire rec...  \n",
       "4  context reverso traduction espagnol francais para  "
      ]
     },
     "execution_count": 43,
     "metadata": {},
     "output_type": "execute_result"
    }
   ],
   "source": [
    "data['url_processed'] = data['url_processed'].progress_apply(lambda x: ' '.join(word for word in x ))\n",
    "data.head()"
   ]
  },
  {
   "cell_type": "code",
   "execution_count": 35,
   "metadata": {
    "execution": {
     "iopub.execute_input": "2022-05-23T09:15:45.836379Z",
     "iopub.status.busy": "2022-05-23T09:15:45.835380Z",
     "iopub.status.idle": "2022-05-23T09:15:46.049444Z",
     "shell.execute_reply": "2022-05-23T09:15:46.049444Z",
     "shell.execute_reply.started": "2022-05-23T09:15:45.836379Z"
    },
    "tags": []
   },
   "outputs": [],
   "source": [
    "from sklearn.preprocessing import MultiLabelBinarizer\n",
    "mlb = MultiLabelBinarizer()\n",
    "y_transformed = mlb.fit_transform(data['target_cleaned'])"
   ]
  },
  {
   "cell_type": "code",
   "execution_count": 52,
   "metadata": {
    "execution": {
     "iopub.execute_input": "2022-05-23T09:37:00.548998Z",
     "iopub.status.busy": "2022-05-23T09:37:00.548000Z",
     "iopub.status.idle": "2022-05-23T09:37:00.658710Z",
     "shell.execute_reply": "2022-05-23T09:37:00.657712Z",
     "shell.execute_reply.started": "2022-05-23T09:37:00.548998Z"
    },
    "tags": []
   },
   "outputs": [],
   "source": [
    "from sklearn.model_selection import train_test_split\n",
    "X, X_test, y, y_test = train_test_split(data['url_processed'], y_transformed, test_size=0.1, random_state=1234)\n",
    "X_train, X_val, y_train, y_val = train_test_split(X, y, test_size=0.2, random_state=1234)"
   ]
  },
  {
   "cell_type": "code",
   "execution_count": null,
   "metadata": {},
   "outputs": [],
   "source": []
  },
  {
   "cell_type": "code",
   "execution_count": null,
   "metadata": {},
   "outputs": [],
   "source": []
  },
  {
   "cell_type": "code",
   "execution_count": 76,
   "metadata": {
    "execution": {
     "iopub.execute_input": "2022-05-23T09:46:51.750651Z",
     "iopub.status.busy": "2022-05-23T09:46:51.749708Z",
     "iopub.status.idle": "2022-05-23T09:46:53.340966Z",
     "shell.execute_reply": "2022-05-23T09:46:53.339999Z",
     "shell.execute_reply.started": "2022-05-23T09:46:51.750651Z"
    },
    "tags": []
   },
   "outputs": [],
   "source": [
    "from sklearn.feature_extraction.text import TfidfVectorizer\n",
    "tf = TfidfVectorizer(analyzer=\"word\", ngram_range=(1, 2), max_features=5000)\n",
    "X_train_encoded = tf.fit_transform(X_train)"
   ]
  },
  {
   "cell_type": "code",
   "execution_count": 77,
   "metadata": {
    "execution": {
     "iopub.execute_input": "2022-05-23T09:46:55.154893Z",
     "iopub.status.busy": "2022-05-23T09:46:55.153884Z",
     "iopub.status.idle": "2022-05-23T09:46:55.398887Z",
     "shell.execute_reply": "2022-05-23T09:46:55.398032Z",
     "shell.execute_reply.started": "2022-05-23T09:46:55.154893Z"
    },
    "tags": []
   },
   "outputs": [],
   "source": [
    "X_val_encoded = tf.transform(X_val)"
   ]
  },
  {
   "cell_type": "code",
   "execution_count": 68,
   "metadata": {
    "execution": {
     "iopub.execute_input": "2022-05-23T09:40:47.829374Z",
     "iopub.status.busy": "2022-05-23T09:40:47.829374Z",
     "iopub.status.idle": "2022-05-23T09:40:47.843335Z",
     "shell.execute_reply": "2022-05-23T09:40:47.842342Z",
     "shell.execute_reply.started": "2022-05-23T09:40:47.829374Z"
    },
    "tags": []
   },
   "outputs": [
    {
     "data": {
      "text/plain": [
       "(1, 5000)"
      ]
     },
     "execution_count": 68,
     "metadata": {},
     "output_type": "execute_result"
    }
   ],
   "source": [
    "X_train_encoded[0].shape"
   ]
  },
  {
   "cell_type": "code",
   "execution_count": 88,
   "metadata": {
    "execution": {
     "iopub.execute_input": "2022-05-23T09:50:33.817043Z",
     "iopub.status.busy": "2022-05-23T09:50:33.816045Z",
     "iopub.status.idle": "2022-05-23T09:50:33.833000Z",
     "shell.execute_reply": "2022-05-23T09:50:33.830001Z",
     "shell.execute_reply.started": "2022-05-23T09:50:33.817043Z"
    },
    "tags": []
   },
   "outputs": [],
   "source": [
    "from sklearn.model_selection import train_test_split\n",
    "from sklearn.feature_extraction.text import TfidfVectorizer\n",
    "from sklearn.linear_model import LogisticRegression\n",
    "from sklearn.svm import LinearSVC\n",
    "from sklearn.ensemble import RandomForestClassifier\n",
    "from sklearn.neural_network import MLPClassifier\n",
    "from sklearn.pipeline import Pipeline\n",
    "from sklearn.model_selection import GridSearchCV\n",
    "from xgboost import XGBClassifier\n",
    "\n",
    "from sklearn.multiclass import OneVsRestClassifier\n",
    "\n",
    "from sklearn import metrics"
   ]
  },
  {
   "cell_type": "code",
   "execution_count": 106,
   "metadata": {
    "execution": {
     "iopub.execute_input": "2022-05-23T10:45:25.136720Z",
     "iopub.status.busy": "2022-05-23T10:45:25.135725Z",
     "iopub.status.idle": "2022-05-23T10:45:25.157661Z",
     "shell.execute_reply": "2022-05-23T10:45:25.156660Z",
     "shell.execute_reply.started": "2022-05-23T10:45:25.135725Z"
    },
    "tags": []
   },
   "outputs": [],
   "source": [
    "# models to test\n",
    "classifiers = [\n",
    "    LogisticRegression(solver=\"sag\", random_state=1),\n",
    "    LinearSVC(random_state=1),\n",
    "    XGBClassifier(objective=\"binary:logistic\", eval_metric=\"logloss\", random_state=1),\n",
    "    MLPClassifier(\n",
    "        random_state=1,\n",
    "        solver=\"adam\",\n",
    "        hidden_layer_sizes=(12, 12, 12),\n",
    "        activation=\"relu\",\n",
    "        early_stopping=True,\n",
    "        n_iter_no_change=1,\n",
    "    ),\n",
    "]\n",
    "\n",
    "clf_names = [\"LR\", \"LSVC\", \"XGB\", \"MLP\"]"
   ]
  },
  {
   "cell_type": "code",
   "execution_count": 107,
   "metadata": {
    "execution": {
     "iopub.execute_input": "2022-05-23T10:45:27.851092Z",
     "iopub.status.busy": "2022-05-23T10:45:27.850094Z",
     "iopub.status.idle": "2022-05-23T10:45:27.881682Z",
     "shell.execute_reply": "2022-05-23T10:45:27.878683Z",
     "shell.execute_reply.started": "2022-05-23T10:45:27.851092Z"
    },
    "tags": []
   },
   "outputs": [],
   "source": [
    "### calculate necessairy fucntions\n",
    "def evaluation_scores(y_test, predicted):\n",
    "    return {\"Accuracy\": metrics.accuracy_score(y_test, predicted, normalize=True),  # Test with normalize=False\n",
    "            \"Hamming loss\": metrics.hamming_loss(y_test, predicted),\n",
    "            \"AUC\": metrics.roc_auc_score(y_test, predicted),\n",
    "            \"F1 score macro\": metrics.f1_score(y_test, predicted, average='macro', zero_division=0),\n",
    "            \"F1 score micro\": metrics.f1_score(y_test, predicted, average='micro', zero_division=0),\n",
    "            \"F1 score weighted\": metrics.f1_score(y_test, predicted, average='weighted', zero_division=0)}"
   ]
  },
  {
   "cell_type": "code",
   "execution_count": 118,
   "metadata": {
    "execution": {
     "iopub.execute_input": "2022-05-23T11:55:06.180686Z",
     "iopub.status.busy": "2022-05-23T11:55:06.180686Z",
     "iopub.status.idle": "2022-05-23T12:16:15.470766Z",
     "shell.execute_reply": "2022-05-23T12:16:15.469875Z",
     "shell.execute_reply.started": "2022-05-23T11:55:06.180686Z"
    },
    "tags": []
   },
   "outputs": [
    {
     "name": "stdout",
     "output_type": "stream",
     "text": [
      "Training classifier: LR\n",
      "Training classifier: LSVC\n",
      "Training classifier: XGB\n"
     ]
    },
    {
     "name": "stderr",
     "output_type": "stream",
     "text": [
      "C:\\ProgramData\\Anaconda3\\lib\\site-packages\\xgboost\\sklearn.py:1224: UserWarning: The use of label encoder in XGBClassifier is deprecated and will be removed in a future release. To remove this warning, do the following: 1) Pass option use_label_encoder=False when constructing XGBClassifier object; and 2) Encode your labels (y) as integers starting with 0, i.e. 0, 1, 2, ..., [num_class - 1].\n",
      "  warnings.warn(label_encoder_deprecation_msg, UserWarning)\n"
     ]
    },
    {
     "name": "stdout",
     "output_type": "stream",
     "text": [
      "Training classifier: MLP\n",
      "Wall time: 21min 9s\n"
     ]
    }
   ],
   "source": [
    "%%time\n",
    "# test all classifiers and save pred. results on test data\n",
    "results = {}\n",
    "for name, clf in zip(clf_names, classifiers):\n",
    "    print(f\"Training classifier: {name}\")\n",
    "    pipe = OneVsRestClassifier(clf)\n",
    "    pipe.fit(X_train_encoded, y_train)\n",
    "    prediction = pipe.predict(X_val_encoded)\n",
    "    report = evaluation_scores(y_val, prediction)\n",
    "    results[name] = report"
   ]
  },
  {
   "cell_type": "code",
   "execution_count": 121,
   "metadata": {
    "execution": {
     "iopub.execute_input": "2022-05-23T12:28:16.682645Z",
     "iopub.status.busy": "2022-05-23T12:28:16.682645Z",
     "iopub.status.idle": "2022-05-23T12:28:16.707646Z",
     "shell.execute_reply": "2022-05-23T12:28:16.704669Z",
     "shell.execute_reply.started": "2022-05-23T12:28:16.682645Z"
    },
    "tags": []
   },
   "outputs": [
    {
     "name": "stdout",
     "output_type": "stream",
     "text": [
      "|      |   Accuracy |   Hamming loss |      AUC |   F1 score macro |   F1 score micro |   F1 score weighted |\n",
      "|:-----|-----------:|---------------:|---------:|-----------------:|-----------------:|--------------------:|\n",
      "| LR   |   0.121936 |     0.00891236 | 0.653643 |         0.396298 |         0.538858 |            0.49323  |\n",
      "| LSVC |   0.171484 |     0.00831222 | 0.70922  |         0.503603 |         0.607955 |            0.577387 |\n",
      "| XGB  |   0.151981 |     0.00873008 | 0.702646 |         0.488    |         0.584884 |            0.555727 |\n",
      "| MLP  |   0.101116 |     0.00913117 | 0.635244 |         0.300006 |         0.543177 |            0.457907 |\n"
     ]
    }
   ],
   "source": [
    "print(pd.DataFrame.from_dict(results).T.to_markdown())"
   ]
  },
  {
   "cell_type": "code",
   "execution_count": null,
   "metadata": {},
   "outputs": [],
   "source": []
  }
 ],
 "metadata": {
  "kernelspec": {
   "display_name": "Python 3",
   "language": "python",
   "name": "python3"
  },
  "language_info": {
   "codemirror_mode": {
    "name": "ipython",
    "version": 3
   },
   "file_extension": ".py",
   "mimetype": "text/x-python",
   "name": "python",
   "nbconvert_exporter": "python",
   "pygments_lexer": "ipython3",
   "version": "3.8.3"
  }
 },
 "nbformat": 4,
 "nbformat_minor": 4
}

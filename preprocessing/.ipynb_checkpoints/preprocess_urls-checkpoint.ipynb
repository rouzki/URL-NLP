{
 "cells": [
  {
   "cell_type": "code",
   "execution_count": 1,
   "metadata": {
    "execution": {
     "iopub.execute_input": "2022-05-23T13:17:59.034497Z",
     "iopub.status.busy": "2022-05-23T13:17:59.034497Z",
     "iopub.status.idle": "2022-05-23T13:17:59.693829Z",
     "shell.execute_reply": "2022-05-23T13:17:59.693151Z",
     "shell.execute_reply.started": "2022-05-23T13:17:59.034497Z"
    },
    "tags": []
   },
   "outputs": [],
   "source": [
    "import pandas as pd\n",
    "import numpy as np\n",
    "from tqdm.notebook import tqdm\n",
    "import itertools"
   ]
  },
  {
   "cell_type": "code",
   "execution_count": 2,
   "metadata": {
    "execution": {
     "iopub.execute_input": "2022-05-23T13:17:59.694828Z",
     "iopub.status.busy": "2022-05-23T13:17:59.694828Z",
     "iopub.status.idle": "2022-05-23T13:17:59.709829Z",
     "shell.execute_reply": "2022-05-23T13:17:59.708865Z",
     "shell.execute_reply.started": "2022-05-23T13:17:59.694828Z"
    },
    "tags": []
   },
   "outputs": [],
   "source": [
    "DATA_PATH = '../data/'"
   ]
  },
  {
   "cell_type": "code",
   "execution_count": 3,
   "metadata": {
    "execution": {
     "iopub.execute_input": "2022-05-23T13:17:59.710827Z",
     "iopub.status.busy": "2022-05-23T13:17:59.710827Z",
     "iopub.status.idle": "2022-05-23T13:17:59.725828Z",
     "shell.execute_reply": "2022-05-23T13:17:59.724869Z",
     "shell.execute_reply.started": "2022-05-23T13:17:59.710827Z"
    },
    "tags": []
   },
   "outputs": [
    {
     "data": {
      "text/plain": [
       "['part-00000-1b8fcd71-6348-4510-a9dc-bdd7dcf82f2d-c000.snappy.parquet',\n",
       " 'part-00001-1b8fcd71-6348-4510-a9dc-bdd7dcf82f2d-c000.snappy.parquet',\n",
       " 'part-00002-1b8fcd71-6348-4510-a9dc-bdd7dcf82f2d-c000.snappy.parquet',\n",
       " 'part-00003-1b8fcd71-6348-4510-a9dc-bdd7dcf82f2d-c000.snappy.parquet',\n",
       " 'part-00004-1b8fcd71-6348-4510-a9dc-bdd7dcf82f2d-c000.snappy.parquet']"
      ]
     },
     "execution_count": 3,
     "metadata": {},
     "output_type": "execute_result"
    }
   ],
   "source": [
    "from os.path import isfile, join\n",
    "from os import listdir\n",
    "\n",
    "## get only files parquet files\n",
    "onlyfiles = [f for f in listdir(DATA_PATH) if isfile(join(DATA_PATH, f)) and 'snappy.parquet' in f]\n",
    "onlyfiles"
   ]
  },
  {
   "cell_type": "code",
   "execution_count": 4,
   "metadata": {
    "execution": {
     "iopub.execute_input": "2022-05-23T13:17:59.726829Z",
     "iopub.status.busy": "2022-05-23T13:17:59.726829Z",
     "iopub.status.idle": "2022-05-23T13:18:00.025054Z",
     "shell.execute_reply": "2022-05-23T13:18:00.024052Z",
     "shell.execute_reply.started": "2022-05-23T13:17:59.726829Z"
    },
    "tags": []
   },
   "outputs": [
    {
     "data": {
      "text/plain": [
       "5"
      ]
     },
     "execution_count": 4,
     "metadata": {},
     "output_type": "execute_result"
    }
   ],
   "source": [
    "dfs = [pd.read_parquet(DATA_PATH + file) for file in onlyfiles]\n",
    "len(dfs)"
   ]
  },
  {
   "cell_type": "code",
   "execution_count": 5,
   "metadata": {
    "execution": {
     "iopub.execute_input": "2022-05-23T13:18:00.026053Z",
     "iopub.status.busy": "2022-05-23T13:18:00.026053Z",
     "iopub.status.idle": "2022-05-23T13:18:00.056097Z",
     "shell.execute_reply": "2022-05-23T13:18:00.055096Z",
     "shell.execute_reply.started": "2022-05-23T13:18:00.026053Z"
    },
    "tags": []
   },
   "outputs": [
    {
     "data": {
      "text/html": [
       "<div>\n",
       "<style scoped>\n",
       "    .dataframe tbody tr th:only-of-type {\n",
       "        vertical-align: middle;\n",
       "    }\n",
       "\n",
       "    .dataframe tbody tr th {\n",
       "        vertical-align: top;\n",
       "    }\n",
       "\n",
       "    .dataframe thead th {\n",
       "        text-align: right;\n",
       "    }\n",
       "</style>\n",
       "<table border=\"1\" class=\"dataframe\">\n",
       "  <thead>\n",
       "    <tr style=\"text-align: right;\">\n",
       "      <th></th>\n",
       "      <th>url</th>\n",
       "      <th>target</th>\n",
       "      <th>day</th>\n",
       "    </tr>\n",
       "  </thead>\n",
       "  <tbody>\n",
       "    <tr>\n",
       "      <th>0</th>\n",
       "      <td>https://www.cdiscount.com/bricolage/electricit...</td>\n",
       "      <td>[1831, 1751, 1192, 745, 1703]</td>\n",
       "      <td>4</td>\n",
       "    </tr>\n",
       "    <tr>\n",
       "      <th>1</th>\n",
       "      <td>https://www.mystalk.net/profile/vitoriafcorrea</td>\n",
       "      <td>[847, 978, 582, 1381, 529]</td>\n",
       "      <td>4</td>\n",
       "    </tr>\n",
       "    <tr>\n",
       "      <th>2</th>\n",
       "      <td>https://www.lequipe.fr/Tennis/TennisFicheJoueu...</td>\n",
       "      <td>[20, 1077, 294]</td>\n",
       "      <td>4</td>\n",
       "    </tr>\n",
       "    <tr>\n",
       "      <th>3</th>\n",
       "      <td>http://m.jeuxvideo.com/forums/42-32625-6018005...</td>\n",
       "      <td>[381, 935, 1343, 622, 933]</td>\n",
       "      <td>4</td>\n",
       "    </tr>\n",
       "    <tr>\n",
       "      <th>4</th>\n",
       "      <td>https://context.reverso.net/traduction/espagno...</td>\n",
       "      <td>[692, 1265, 725, 1264, 1266]</td>\n",
       "      <td>4</td>\n",
       "    </tr>\n",
       "    <tr>\n",
       "      <th>...</th>\n",
       "      <td>...</td>\n",
       "      <td>...</td>\n",
       "      <td>...</td>\n",
       "    </tr>\n",
       "    <tr>\n",
       "      <th>67590</th>\n",
       "      <td>https://www.jeu-concours.biz/gagner-cafetiere-...</td>\n",
       "      <td>[1276, 65, 1113]</td>\n",
       "      <td>1</td>\n",
       "    </tr>\n",
       "    <tr>\n",
       "      <th>67591</th>\n",
       "      <td>https://www.sto.cx/book-186042-471.html</td>\n",
       "      <td>[608, 617, 1033, 220, 1021]</td>\n",
       "      <td>1</td>\n",
       "    </tr>\n",
       "    <tr>\n",
       "      <th>67592</th>\n",
       "      <td>http://jeu.info/solution/4-images-1-mot-niveau...</td>\n",
       "      <td>[381, 925, 622, 1494, 937]</td>\n",
       "      <td>16</td>\n",
       "    </tr>\n",
       "    <tr>\n",
       "      <th>67593</th>\n",
       "      <td>https://grossesse.aufeminin.com/forum/levres-g...</td>\n",
       "      <td>[638, 253, 419, 558, 401]</td>\n",
       "      <td>1</td>\n",
       "    </tr>\n",
       "    <tr>\n",
       "      <th>67594</th>\n",
       "      <td>https://www.conforama.fr/chambre-literie/liter...</td>\n",
       "      <td>[1367, 1372, 1368, 1370, 1369]</td>\n",
       "      <td>16</td>\n",
       "    </tr>\n",
       "  </tbody>\n",
       "</table>\n",
       "<p>67595 rows × 3 columns</p>\n",
       "</div>"
      ],
      "text/plain": [
       "                                                     url  \\\n",
       "0      https://www.cdiscount.com/bricolage/electricit...   \n",
       "1         https://www.mystalk.net/profile/vitoriafcorrea   \n",
       "2      https://www.lequipe.fr/Tennis/TennisFicheJoueu...   \n",
       "3      http://m.jeuxvideo.com/forums/42-32625-6018005...   \n",
       "4      https://context.reverso.net/traduction/espagno...   \n",
       "...                                                  ...   \n",
       "67590  https://www.jeu-concours.biz/gagner-cafetiere-...   \n",
       "67591            https://www.sto.cx/book-186042-471.html   \n",
       "67592  http://jeu.info/solution/4-images-1-mot-niveau...   \n",
       "67593  https://grossesse.aufeminin.com/forum/levres-g...   \n",
       "67594  https://www.conforama.fr/chambre-literie/liter...   \n",
       "\n",
       "                               target  day  \n",
       "0       [1831, 1751, 1192, 745, 1703]    4  \n",
       "1          [847, 978, 582, 1381, 529]    4  \n",
       "2                     [20, 1077, 294]    4  \n",
       "3          [381, 935, 1343, 622, 933]    4  \n",
       "4        [692, 1265, 725, 1264, 1266]    4  \n",
       "...                               ...  ...  \n",
       "67590                [1276, 65, 1113]    1  \n",
       "67591     [608, 617, 1033, 220, 1021]    1  \n",
       "67592      [381, 925, 622, 1494, 937]   16  \n",
       "67593       [638, 253, 419, 558, 401]    1  \n",
       "67594  [1367, 1372, 1368, 1370, 1369]   16  \n",
       "\n",
       "[67595 rows x 3 columns]"
      ]
     },
     "execution_count": 5,
     "metadata": {},
     "output_type": "execute_result"
    }
   ],
   "source": [
    "data = pd.concat(dfs, ignore_index=True)\n",
    "data"
   ]
  },
  {
   "cell_type": "code",
   "execution_count": 6,
   "metadata": {
    "execution": {
     "iopub.execute_input": "2022-05-23T13:18:00.057094Z",
     "iopub.status.busy": "2022-05-23T13:18:00.057094Z",
     "iopub.status.idle": "2022-05-23T13:18:00.088053Z",
     "shell.execute_reply": "2022-05-23T13:18:00.087052Z",
     "shell.execute_reply.started": "2022-05-23T13:18:00.057094Z"
    },
    "tags": []
   },
   "outputs": [
    {
     "data": {
      "text/plain": [
       "url       0\n",
       "target    0\n",
       "day       0\n",
       "dtype: int64"
      ]
     },
     "execution_count": 6,
     "metadata": {},
     "output_type": "execute_result"
    }
   ],
   "source": [
    "## check null values\n",
    "data.isna().sum()"
   ]
  },
  {
   "cell_type": "code",
   "execution_count": 7,
   "metadata": {
    "execution": {
     "iopub.execute_input": "2022-05-23T13:18:00.125091Z",
     "iopub.status.busy": "2022-05-23T13:18:00.125091Z",
     "iopub.status.idle": "2022-05-23T13:18:00.149057Z",
     "shell.execute_reply": "2022-05-23T13:18:00.148054Z",
     "shell.execute_reply.started": "2022-05-23T13:18:00.125091Z"
    },
    "tags": []
   },
   "outputs": [
    {
     "data": {
      "text/plain": [
       "True"
      ]
     },
     "execution_count": 7,
     "metadata": {},
     "output_type": "execute_result"
    }
   ],
   "source": [
    "## check duplicated in url\n",
    "data['url'].duplicated().any()"
   ]
  },
  {
   "cell_type": "code",
   "execution_count": 8,
   "metadata": {
    "execution": {
     "iopub.execute_input": "2022-05-23T13:18:00.699042Z",
     "iopub.status.busy": "2022-05-23T13:18:00.699042Z",
     "iopub.status.idle": "2022-05-23T13:18:00.729001Z",
     "shell.execute_reply": "2022-05-23T13:18:00.728000Z",
     "shell.execute_reply.started": "2022-05-23T13:18:00.699042Z"
    },
    "tags": []
   },
   "outputs": [
    {
     "data": {
      "text/html": [
       "<div>\n",
       "<style scoped>\n",
       "    .dataframe tbody tr th:only-of-type {\n",
       "        vertical-align: middle;\n",
       "    }\n",
       "\n",
       "    .dataframe tbody tr th {\n",
       "        vertical-align: top;\n",
       "    }\n",
       "\n",
       "    .dataframe thead th {\n",
       "        text-align: right;\n",
       "    }\n",
       "</style>\n",
       "<table border=\"1\" class=\"dataframe\">\n",
       "  <thead>\n",
       "    <tr style=\"text-align: right;\">\n",
       "      <th></th>\n",
       "      <th>url</th>\n",
       "      <th>target</th>\n",
       "      <th>day</th>\n",
       "    </tr>\n",
       "  </thead>\n",
       "  <tbody>\n",
       "    <tr>\n",
       "      <th>8989</th>\n",
       "      <td>https://www.linternaute.fr/dictionnaire/fr/def...</td>\n",
       "      <td>[692, 1265, 1494, 474, 3]</td>\n",
       "      <td>3</td>\n",
       "    </tr>\n",
       "    <tr>\n",
       "      <th>9229</th>\n",
       "      <td>https://www.capital.fr/votre-argent/taxe-puma-...</td>\n",
       "      <td>[1161, 1283, 1137, 1705, 1428]</td>\n",
       "      <td>1</td>\n",
       "    </tr>\n",
       "    <tr>\n",
       "      <th>9853</th>\n",
       "      <td>https://fr.shopping.rakuten.com/mfp/5516127/sa...</td>\n",
       "      <td>[1071, 1534, 390, 531, 18]</td>\n",
       "      <td>12</td>\n",
       "    </tr>\n",
       "    <tr>\n",
       "      <th>11080</th>\n",
       "      <td>http://ghislaine17.ek.la/gigot-d-agneau-laque-...</td>\n",
       "      <td>[1538, 909, 1545, 122, 1551]</td>\n",
       "      <td>16</td>\n",
       "    </tr>\n",
       "    <tr>\n",
       "      <th>16296</th>\n",
       "      <td>https://www.cdiscount.com/bricolage/chauffage/...</td>\n",
       "      <td>[1835, 1836, 1724, 828, 830]</td>\n",
       "      <td>17</td>\n",
       "    </tr>\n",
       "    <tr>\n",
       "      <th>...</th>\n",
       "      <td>...</td>\n",
       "      <td>...</td>\n",
       "      <td>...</td>\n",
       "    </tr>\n",
       "    <tr>\n",
       "      <th>66719</th>\n",
       "      <td>https://plomberie.ooreka.fr/fiche/voir/106367/...</td>\n",
       "      <td>[1365, 1836, 828, 839, 830]</td>\n",
       "      <td>13</td>\n",
       "    </tr>\n",
       "    <tr>\n",
       "      <th>66753</th>\n",
       "      <td>https://www.senscritique.com/sc2/liste/754899/...</td>\n",
       "      <td>[507, 34, 184, 1116, 358]</td>\n",
       "      <td>12</td>\n",
       "    </tr>\n",
       "    <tr>\n",
       "      <th>66786</th>\n",
       "      <td>http://forum.doctissimo.fr/grossesse-bebe/rama...</td>\n",
       "      <td>[1513, 907, 122, 1573, 1526]</td>\n",
       "      <td>12</td>\n",
       "    </tr>\n",
       "    <tr>\n",
       "      <th>67141</th>\n",
       "      <td>https://www.marmiton.org/recettes/recette_cook...</td>\n",
       "      <td>[1513, 907, 122, 1573, 1526]</td>\n",
       "      <td>17</td>\n",
       "    </tr>\n",
       "    <tr>\n",
       "      <th>67186</th>\n",
       "      <td>https://www.cdiscount.com/au-quotidien/aliment...</td>\n",
       "      <td>[276, 121, 908, 1523, 1542]</td>\n",
       "      <td>17</td>\n",
       "    </tr>\n",
       "  </tbody>\n",
       "</table>\n",
       "<p>120 rows × 3 columns</p>\n",
       "</div>"
      ],
      "text/plain": [
       "                                                     url  \\\n",
       "8989   https://www.linternaute.fr/dictionnaire/fr/def...   \n",
       "9229   https://www.capital.fr/votre-argent/taxe-puma-...   \n",
       "9853   https://fr.shopping.rakuten.com/mfp/5516127/sa...   \n",
       "11080  http://ghislaine17.ek.la/gigot-d-agneau-laque-...   \n",
       "16296  https://www.cdiscount.com/bricolage/chauffage/...   \n",
       "...                                                  ...   \n",
       "66719  https://plomberie.ooreka.fr/fiche/voir/106367/...   \n",
       "66753  https://www.senscritique.com/sc2/liste/754899/...   \n",
       "66786  http://forum.doctissimo.fr/grossesse-bebe/rama...   \n",
       "67141  https://www.marmiton.org/recettes/recette_cook...   \n",
       "67186  https://www.cdiscount.com/au-quotidien/aliment...   \n",
       "\n",
       "                               target  day  \n",
       "8989        [692, 1265, 1494, 474, 3]    3  \n",
       "9229   [1161, 1283, 1137, 1705, 1428]    1  \n",
       "9853       [1071, 1534, 390, 531, 18]   12  \n",
       "11080    [1538, 909, 1545, 122, 1551]   16  \n",
       "16296    [1835, 1836, 1724, 828, 830]   17  \n",
       "...                               ...  ...  \n",
       "66719     [1365, 1836, 828, 839, 830]   13  \n",
       "66753       [507, 34, 184, 1116, 358]   12  \n",
       "66786    [1513, 907, 122, 1573, 1526]   12  \n",
       "67141    [1513, 907, 122, 1573, 1526]   17  \n",
       "67186     [276, 121, 908, 1523, 1542]   17  \n",
       "\n",
       "[120 rows x 3 columns]"
      ]
     },
     "execution_count": 8,
     "metadata": {},
     "output_type": "execute_result"
    }
   ],
   "source": [
    "## get duplicated columns where ther's duplicated values\n",
    "data[data['url'].duplicated()]"
   ]
  },
  {
   "cell_type": "code",
   "execution_count": 9,
   "metadata": {
    "execution": {
     "iopub.execute_input": "2022-05-23T13:18:01.104223Z",
     "iopub.status.busy": "2022-05-23T13:18:01.103216Z",
     "iopub.status.idle": "2022-05-23T13:18:01.122252Z",
     "shell.execute_reply": "2022-05-23T13:18:01.121250Z",
     "shell.execute_reply.started": "2022-05-23T13:18:01.104223Z"
    },
    "tags": []
   },
   "outputs": [],
   "source": [
    "# targets[0], targets[1]"
   ]
  },
  {
   "cell_type": "code",
   "execution_count": 10,
   "metadata": {
    "execution": {
     "iopub.execute_input": "2022-05-23T13:18:01.656595Z",
     "iopub.status.busy": "2022-05-23T13:18:01.656595Z",
     "iopub.status.idle": "2022-05-23T13:18:01.674607Z",
     "shell.execute_reply": "2022-05-23T13:18:01.671653Z",
     "shell.execute_reply.started": "2022-05-23T13:18:01.656595Z"
    },
    "tags": []
   },
   "outputs": [],
   "source": [
    "# ### handle duplicated values\n",
    "# for url in data[data['url'].duplicated()].url.values:\n",
    "#     ## check if same labels are on both urls\n",
    "#     targets = data[data['url'] == url]['target'].values\n",
    "#     if targets[0] != targets[1]:\n",
    "#         print(url)"
   ]
  },
  {
   "cell_type": "code",
   "execution_count": 11,
   "metadata": {
    "execution": {
     "iopub.execute_input": "2022-05-23T13:18:02.050290Z",
     "iopub.status.busy": "2022-05-23T13:18:02.050290Z",
     "iopub.status.idle": "2022-05-23T13:18:02.064242Z",
     "shell.execute_reply": "2022-05-23T13:18:02.062240Z",
     "shell.execute_reply.started": "2022-05-23T13:18:02.050290Z"
    },
    "tags": []
   },
   "outputs": [
    {
     "data": {
      "text/plain": [
       "'https://www.lequipe.fr/Tennis/TennisFicheJoueur1500000000003017.html'"
      ]
     },
     "execution_count": 11,
     "metadata": {},
     "output_type": "execute_result"
    }
   ],
   "source": [
    "url_example = data['url'].values[2]\n",
    "url_example"
   ]
  },
  {
   "cell_type": "code",
   "execution_count": 12,
   "metadata": {
    "execution": {
     "iopub.execute_input": "2022-05-23T13:18:02.424416Z",
     "iopub.status.busy": "2022-05-23T13:18:02.423447Z",
     "iopub.status.idle": "2022-05-23T13:18:02.443458Z",
     "shell.execute_reply": "2022-05-23T13:18:02.441460Z",
     "shell.execute_reply.started": "2022-05-23T13:18:02.424416Z"
    },
    "tags": []
   },
   "outputs": [],
   "source": [
    "import re\n",
    "from setuptools.namespaces import flatten\n",
    "from urllib.parse import urlparse, unquote_plus"
   ]
  },
  {
   "cell_type": "code",
   "execution_count": 13,
   "metadata": {
    "execution": {
     "iopub.execute_input": "2022-05-23T13:18:03.037467Z",
     "iopub.status.busy": "2022-05-23T13:18:03.037467Z",
     "iopub.status.idle": "2022-05-23T13:18:03.056469Z",
     "shell.execute_reply": "2022-05-23T13:18:03.055505Z",
     "shell.execute_reply.started": "2022-05-23T13:18:03.037467Z"
    },
    "tags": []
   },
   "outputs": [],
   "source": [
    "def preprocess_url(url):\n",
    "    ## convert to urlparse with quoted\n",
    "    url_parsed = urlparse(unquote_plus(url))\n",
    "    ## join all url attributes\n",
    "    url_text = ''.join(x for x in [url_parsed.netloc, url_parsed.path, url_parsed.params, url_parsed.query])\n",
    "    ## split url to tokens ie: words\n",
    "    tokens = re.split('[- _ % : , / \\. \\+ = ]', url_text)\n",
    "    ## spliting by upper case\n",
    "    tokens = list(flatten([re.split(r'(?<![A-Z\\W])(?=[A-Z])', s) for s in tokens]))\n",
    "    ## delete token with digits with len < 2\n",
    "    tokens = [token for token in tokens if (not any(c.isdigit() for c in token)) and (not len(token) <=2)]\n",
    "    tokens = [token for token in tokens if token not in ['www', 'html', 'com', 'net', 'org']]\n",
    "    return ' '.join(token for token in tokens)"
   ]
  },
  {
   "cell_type": "code",
   "execution_count": 14,
   "metadata": {
    "execution": {
     "iopub.execute_input": "2022-05-23T13:18:03.440190Z",
     "iopub.status.busy": "2022-05-23T13:18:03.439188Z",
     "iopub.status.idle": "2022-05-23T13:18:03.450153Z",
     "shell.execute_reply": "2022-05-23T13:18:03.449146Z",
     "shell.execute_reply.started": "2022-05-23T13:18:03.440190Z"
    },
    "tags": []
   },
   "outputs": [
    {
     "name": "stdout",
     "output_type": "stream",
     "text": [
      "https://www.lequipe.fr/Tennis/TennisFicheJoueur1500000000003017.html\n"
     ]
    },
    {
     "data": {
      "text/plain": [
       "'lequipe Tennis Tennis Fiche'"
      ]
     },
     "execution_count": 14,
     "metadata": {},
     "output_type": "execute_result"
    }
   ],
   "source": [
    "print(url_example)\n",
    "preprocess_url(url_example)"
   ]
  },
  {
   "cell_type": "code",
   "execution_count": 15,
   "metadata": {
    "execution": {
     "iopub.execute_input": "2022-05-23T13:18:03.875321Z",
     "iopub.status.busy": "2022-05-23T13:18:03.875321Z",
     "iopub.status.idle": "2022-05-23T13:18:07.416015Z",
     "shell.execute_reply": "2022-05-23T13:18:07.415117Z",
     "shell.execute_reply.started": "2022-05-23T13:18:03.875321Z"
    },
    "tags": []
   },
   "outputs": [],
   "source": [
    "data['url_cleaned'] = data['url'].apply(preprocess_url)"
   ]
  },
  {
   "cell_type": "code",
   "execution_count": 16,
   "metadata": {
    "execution": {
     "iopub.execute_input": "2022-05-23T13:18:07.417973Z",
     "iopub.status.busy": "2022-05-23T13:18:07.417061Z",
     "iopub.status.idle": "2022-05-23T13:18:07.448974Z",
     "shell.execute_reply": "2022-05-23T13:18:07.447132Z",
     "shell.execute_reply.started": "2022-05-23T13:18:07.417061Z"
    },
    "tags": []
   },
   "outputs": [
    {
     "data": {
      "text/html": [
       "<div>\n",
       "<style scoped>\n",
       "    .dataframe tbody tr th:only-of-type {\n",
       "        vertical-align: middle;\n",
       "    }\n",
       "\n",
       "    .dataframe tbody tr th {\n",
       "        vertical-align: top;\n",
       "    }\n",
       "\n",
       "    .dataframe thead th {\n",
       "        text-align: right;\n",
       "    }\n",
       "</style>\n",
       "<table border=\"1\" class=\"dataframe\">\n",
       "  <thead>\n",
       "    <tr style=\"text-align: right;\">\n",
       "      <th></th>\n",
       "      <th>url</th>\n",
       "      <th>target</th>\n",
       "      <th>day</th>\n",
       "      <th>url_cleaned</th>\n",
       "    </tr>\n",
       "  </thead>\n",
       "  <tbody>\n",
       "    <tr>\n",
       "      <th>0</th>\n",
       "      <td>https://www.cdiscount.com/bricolage/electricit...</td>\n",
       "      <td>[1831, 1751, 1192, 745, 1703]</td>\n",
       "      <td>4</td>\n",
       "      <td>cdiscount bricolage electricite batterie plomb...</td>\n",
       "    </tr>\n",
       "    <tr>\n",
       "      <th>1</th>\n",
       "      <td>https://www.mystalk.net/profile/vitoriafcorrea</td>\n",
       "      <td>[847, 978, 582, 1381, 529]</td>\n",
       "      <td>4</td>\n",
       "      <td>mystalk profile vitoriafcorrea</td>\n",
       "    </tr>\n",
       "    <tr>\n",
       "      <th>2</th>\n",
       "      <td>https://www.lequipe.fr/Tennis/TennisFicheJoueu...</td>\n",
       "      <td>[20, 1077, 294]</td>\n",
       "      <td>4</td>\n",
       "      <td>lequipe Tennis Tennis Fiche</td>\n",
       "    </tr>\n",
       "    <tr>\n",
       "      <th>3</th>\n",
       "      <td>http://m.jeuxvideo.com/forums/42-32625-6018005...</td>\n",
       "      <td>[381, 935, 1343, 622, 933]</td>\n",
       "      <td>4</td>\n",
       "      <td>jeuxvideo forums guilde fourmi legionnaire rec...</td>\n",
       "    </tr>\n",
       "    <tr>\n",
       "      <th>4</th>\n",
       "      <td>https://context.reverso.net/traduction/espagno...</td>\n",
       "      <td>[692, 1265, 725, 1264, 1266]</td>\n",
       "      <td>4</td>\n",
       "      <td>context reverso traduction espagnol francais Para</td>\n",
       "    </tr>\n",
       "    <tr>\n",
       "      <th>...</th>\n",
       "      <td>...</td>\n",
       "      <td>...</td>\n",
       "      <td>...</td>\n",
       "      <td>...</td>\n",
       "    </tr>\n",
       "    <tr>\n",
       "      <th>67590</th>\n",
       "      <td>https://www.jeu-concours.biz/gagner-cafetiere-...</td>\n",
       "      <td>[1276, 65, 1113]</td>\n",
       "      <td>1</td>\n",
       "      <td>jeu concours biz gagner cafetiere expresso</td>\n",
       "    </tr>\n",
       "    <tr>\n",
       "      <th>67591</th>\n",
       "      <td>https://www.sto.cx/book-186042-471.html</td>\n",
       "      <td>[608, 617, 1033, 220, 1021]</td>\n",
       "      <td>1</td>\n",
       "      <td>sto book</td>\n",
       "    </tr>\n",
       "    <tr>\n",
       "      <th>67592</th>\n",
       "      <td>http://jeu.info/solution/4-images-1-mot-niveau...</td>\n",
       "      <td>[381, 925, 622, 1494, 937]</td>\n",
       "      <td>16</td>\n",
       "      <td>jeu info solution images mot niveau</td>\n",
       "    </tr>\n",
       "    <tr>\n",
       "      <th>67593</th>\n",
       "      <td>https://grossesse.aufeminin.com/forum/levres-g...</td>\n",
       "      <td>[638, 253, 419, 558, 401]</td>\n",
       "      <td>1</td>\n",
       "      <td>grossesse aufeminin forum levres gonflees acco...</td>\n",
       "    </tr>\n",
       "    <tr>\n",
       "      <th>67594</th>\n",
       "      <td>https://www.conforama.fr/chambre-literie/liter...</td>\n",
       "      <td>[1367, 1372, 1368, 1370, 1369]</td>\n",
       "      <td>16</td>\n",
       "      <td>conforama chambre literie literie sommier cadr...</td>\n",
       "    </tr>\n",
       "  </tbody>\n",
       "</table>\n",
       "<p>67595 rows × 4 columns</p>\n",
       "</div>"
      ],
      "text/plain": [
       "                                                     url  \\\n",
       "0      https://www.cdiscount.com/bricolage/electricit...   \n",
       "1         https://www.mystalk.net/profile/vitoriafcorrea   \n",
       "2      https://www.lequipe.fr/Tennis/TennisFicheJoueu...   \n",
       "3      http://m.jeuxvideo.com/forums/42-32625-6018005...   \n",
       "4      https://context.reverso.net/traduction/espagno...   \n",
       "...                                                  ...   \n",
       "67590  https://www.jeu-concours.biz/gagner-cafetiere-...   \n",
       "67591            https://www.sto.cx/book-186042-471.html   \n",
       "67592  http://jeu.info/solution/4-images-1-mot-niveau...   \n",
       "67593  https://grossesse.aufeminin.com/forum/levres-g...   \n",
       "67594  https://www.conforama.fr/chambre-literie/liter...   \n",
       "\n",
       "                               target  day  \\\n",
       "0       [1831, 1751, 1192, 745, 1703]    4   \n",
       "1          [847, 978, 582, 1381, 529]    4   \n",
       "2                     [20, 1077, 294]    4   \n",
       "3          [381, 935, 1343, 622, 933]    4   \n",
       "4        [692, 1265, 725, 1264, 1266]    4   \n",
       "...                               ...  ...   \n",
       "67590                [1276, 65, 1113]    1   \n",
       "67591     [608, 617, 1033, 220, 1021]    1   \n",
       "67592      [381, 925, 622, 1494, 937]   16   \n",
       "67593       [638, 253, 419, 558, 401]    1   \n",
       "67594  [1367, 1372, 1368, 1370, 1369]   16   \n",
       "\n",
       "                                             url_cleaned  \n",
       "0      cdiscount bricolage electricite batterie plomb...  \n",
       "1                         mystalk profile vitoriafcorrea  \n",
       "2                            lequipe Tennis Tennis Fiche  \n",
       "3      jeuxvideo forums guilde fourmi legionnaire rec...  \n",
       "4      context reverso traduction espagnol francais Para  \n",
       "...                                                  ...  \n",
       "67590         jeu concours biz gagner cafetiere expresso  \n",
       "67591                                           sto book  \n",
       "67592                jeu info solution images mot niveau  \n",
       "67593  grossesse aufeminin forum levres gonflees acco...  \n",
       "67594  conforama chambre literie literie sommier cadr...  \n",
       "\n",
       "[67595 rows x 4 columns]"
      ]
     },
     "execution_count": 16,
     "metadata": {},
     "output_type": "execute_result"
    }
   ],
   "source": [
    "data"
   ]
  },
  {
   "cell_type": "code",
   "execution_count": 17,
   "metadata": {
    "execution": {
     "iopub.execute_input": "2022-05-23T13:18:07.450979Z",
     "iopub.status.busy": "2022-05-23T13:18:07.449974Z",
     "iopub.status.idle": "2022-05-23T13:18:07.463978Z",
     "shell.execute_reply": "2022-05-23T13:18:07.463010Z",
     "shell.execute_reply.started": "2022-05-23T13:18:07.450979Z"
    },
    "tags": []
   },
   "outputs": [],
   "source": [
    "# unique_labels = []\n",
    "# for idx, row in data.iterrows():\n",
    "#     for label in row['target']:\n",
    "#         if label not in unique_labels: unique_labels.append(label)"
   ]
  },
  {
   "cell_type": "code",
   "execution_count": 18,
   "metadata": {
    "execution": {
     "iopub.execute_input": "2022-05-23T13:18:07.464973Z",
     "iopub.status.busy": "2022-05-23T13:18:07.464973Z",
     "iopub.status.idle": "2022-05-23T13:18:07.542947Z",
     "shell.execute_reply": "2022-05-23T13:18:07.541911Z",
     "shell.execute_reply.started": "2022-05-23T13:18:07.464973Z"
    },
    "tags": []
   },
   "outputs": [],
   "source": [
    "unique_labels = list(set(itertools.chain(*data.target.values)))"
   ]
  },
  {
   "cell_type": "code",
   "execution_count": 19,
   "metadata": {
    "execution": {
     "iopub.execute_input": "2022-05-23T13:18:07.544949Z",
     "iopub.status.busy": "2022-05-23T13:18:07.544949Z",
     "iopub.status.idle": "2022-05-23T13:18:07.560146Z",
     "shell.execute_reply": "2022-05-23T13:18:07.558019Z",
     "shell.execute_reply.started": "2022-05-23T13:18:07.544949Z"
    },
    "tags": []
   },
   "outputs": [
    {
     "data": {
      "text/plain": [
       "1903"
      ]
     },
     "execution_count": 19,
     "metadata": {},
     "output_type": "execute_result"
    }
   ],
   "source": [
    "len(unique_labels)"
   ]
  },
  {
   "cell_type": "code",
   "execution_count": 20,
   "metadata": {
    "execution": {
     "iopub.execute_input": "2022-05-23T13:18:07.563005Z",
     "iopub.status.busy": "2022-05-23T13:18:07.562463Z",
     "iopub.status.idle": "2022-05-23T13:18:08.277323Z",
     "shell.execute_reply": "2022-05-23T13:18:08.276319Z",
     "shell.execute_reply.started": "2022-05-23T13:18:07.563005Z"
    },
    "tags": []
   },
   "outputs": [],
   "source": [
    "from sklearn.preprocessing import MultiLabelBinarizer\n",
    "from sklearn.model_selection import train_test_split"
   ]
  },
  {
   "cell_type": "code",
   "execution_count": 21,
   "metadata": {
    "execution": {
     "iopub.execute_input": "2022-05-23T13:18:08.278357Z",
     "iopub.status.busy": "2022-05-23T13:18:08.278357Z",
     "iopub.status.idle": "2022-05-23T13:18:08.373321Z",
     "shell.execute_reply": "2022-05-23T13:18:08.372318Z",
     "shell.execute_reply.started": "2022-05-23T13:18:08.278357Z"
    },
    "tags": []
   },
   "outputs": [],
   "source": [
    "import itertools\n",
    "labels = list(set(itertools.chain(*[i for i in data[\"target\"]])))"
   ]
  },
  {
   "cell_type": "code",
   "execution_count": 22,
   "metadata": {
    "execution": {
     "iopub.execute_input": "2022-05-23T13:18:08.374322Z",
     "iopub.status.busy": "2022-05-23T13:18:08.374322Z",
     "iopub.status.idle": "2022-05-23T13:18:08.483325Z",
     "shell.execute_reply": "2022-05-23T13:18:08.482325Z",
     "shell.execute_reply.started": "2022-05-23T13:18:08.374322Z"
    },
    "tags": []
   },
   "outputs": [],
   "source": [
    "from collections import Counter\n",
    "label_count = dict(Counter(flatten(data['target'])))"
   ]
  },
  {
   "cell_type": "code",
   "execution_count": 23,
   "metadata": {
    "execution": {
     "iopub.execute_input": "2022-05-23T13:18:08.484324Z",
     "iopub.status.busy": "2022-05-23T13:18:08.484324Z",
     "iopub.status.idle": "2022-05-23T13:18:08.499322Z",
     "shell.execute_reply": "2022-05-23T13:18:08.498321Z",
     "shell.execute_reply.started": "2022-05-23T13:18:08.484324Z"
    },
    "tags": []
   },
   "outputs": [
    {
     "data": {
      "text/plain": [
       "267"
      ]
     },
     "execution_count": 23,
     "metadata": {},
     "output_type": "execute_result"
    }
   ],
   "source": [
    "threshold = 300\n",
    "labels_to_keep = [k for k, v in label_count.items() if v > threshold]\n",
    "len(labels_to_keep)"
   ]
  },
  {
   "cell_type": "code",
   "execution_count": 24,
   "metadata": {
    "execution": {
     "iopub.execute_input": "2022-05-23T13:18:08.871706Z",
     "iopub.status.busy": "2022-05-23T13:18:08.870702Z",
     "iopub.status.idle": "2022-05-23T13:18:08.894708Z",
     "shell.execute_reply": "2022-05-23T13:18:08.891710Z",
     "shell.execute_reply.started": "2022-05-23T13:18:08.871706Z"
    },
    "tags": []
   },
   "outputs": [],
   "source": [
    "def keep_selected_labels(labels, labels_to_keep):\n",
    "    return [label for label in labels if label in labels_to_keep]"
   ]
  },
  {
   "cell_type": "code",
   "execution_count": 25,
   "metadata": {
    "execution": {
     "iopub.execute_input": "2022-05-23T13:18:09.142392Z",
     "iopub.status.busy": "2022-05-23T13:18:09.141391Z",
     "iopub.status.idle": "2022-05-23T13:18:10.392696Z",
     "shell.execute_reply": "2022-05-23T13:18:10.391735Z",
     "shell.execute_reply.started": "2022-05-23T13:18:09.142392Z"
    },
    "tags": []
   },
   "outputs": [],
   "source": [
    "data[\"target_cleaned\"] = data[\"target\"].apply(lambda obj: keep_selected_labels(obj, labels_to_keep))"
   ]
  },
  {
   "cell_type": "code",
   "execution_count": 26,
   "metadata": {
    "execution": {
     "iopub.execute_input": "2022-05-23T13:18:10.393745Z",
     "iopub.status.busy": "2022-05-23T13:18:10.393745Z",
     "iopub.status.idle": "2022-05-23T13:18:10.439703Z",
     "shell.execute_reply": "2022-05-23T13:18:10.438985Z",
     "shell.execute_reply.started": "2022-05-23T13:18:10.393745Z"
    },
    "tags": []
   },
   "outputs": [],
   "source": [
    "data = data[data['target_cleaned'].apply(lambda x: len(x) != 0)]\n",
    "data.reset_index(drop=True, inplace=True)"
   ]
  },
  {
   "cell_type": "code",
   "execution_count": 27,
   "metadata": {
    "execution": {
     "iopub.execute_input": "2022-05-23T13:18:10.868962Z",
     "iopub.status.busy": "2022-05-23T13:18:10.867957Z",
     "iopub.status.idle": "2022-05-23T13:18:10.908911Z",
     "shell.execute_reply": "2022-05-23T13:18:10.907908Z",
     "shell.execute_reply.started": "2022-05-23T13:18:10.868962Z"
    },
    "tags": []
   },
   "outputs": [
    {
     "data": {
      "text/html": [
       "<div>\n",
       "<style scoped>\n",
       "    .dataframe tbody tr th:only-of-type {\n",
       "        vertical-align: middle;\n",
       "    }\n",
       "\n",
       "    .dataframe tbody tr th {\n",
       "        vertical-align: top;\n",
       "    }\n",
       "\n",
       "    .dataframe thead th {\n",
       "        text-align: right;\n",
       "    }\n",
       "</style>\n",
       "<table border=\"1\" class=\"dataframe\">\n",
       "  <thead>\n",
       "    <tr style=\"text-align: right;\">\n",
       "      <th></th>\n",
       "      <th>url</th>\n",
       "      <th>target</th>\n",
       "      <th>day</th>\n",
       "      <th>url_cleaned</th>\n",
       "      <th>target_cleaned</th>\n",
       "    </tr>\n",
       "  </thead>\n",
       "  <tbody>\n",
       "    <tr>\n",
       "      <th>0</th>\n",
       "      <td>https://www.cdiscount.com/bricolage/electricit...</td>\n",
       "      <td>[1831, 1751, 1192, 745, 1703]</td>\n",
       "      <td>4</td>\n",
       "      <td>cdiscount bricolage electricite batterie plomb...</td>\n",
       "      <td>[1192]</td>\n",
       "    </tr>\n",
       "    <tr>\n",
       "      <th>1</th>\n",
       "      <td>https://www.mystalk.net/profile/vitoriafcorrea</td>\n",
       "      <td>[847, 978, 582, 1381, 529]</td>\n",
       "      <td>4</td>\n",
       "      <td>mystalk profile vitoriafcorrea</td>\n",
       "      <td>[978, 582, 529]</td>\n",
       "    </tr>\n",
       "    <tr>\n",
       "      <th>2</th>\n",
       "      <td>https://www.lequipe.fr/Tennis/TennisFicheJoueu...</td>\n",
       "      <td>[20, 1077, 294]</td>\n",
       "      <td>4</td>\n",
       "      <td>lequipe Tennis Tennis Fiche</td>\n",
       "      <td>[1077, 294]</td>\n",
       "    </tr>\n",
       "    <tr>\n",
       "      <th>3</th>\n",
       "      <td>http://m.jeuxvideo.com/forums/42-32625-6018005...</td>\n",
       "      <td>[381, 935, 1343, 622, 933]</td>\n",
       "      <td>4</td>\n",
       "      <td>jeuxvideo forums guilde fourmi legionnaire rec...</td>\n",
       "      <td>[381, 935, 1343, 622, 933]</td>\n",
       "    </tr>\n",
       "    <tr>\n",
       "      <th>4</th>\n",
       "      <td>https://context.reverso.net/traduction/espagno...</td>\n",
       "      <td>[692, 1265, 725, 1264, 1266]</td>\n",
       "      <td>4</td>\n",
       "      <td>context reverso traduction espagnol francais Para</td>\n",
       "      <td>[692, 1265, 725, 1264, 1266]</td>\n",
       "    </tr>\n",
       "    <tr>\n",
       "      <th>...</th>\n",
       "      <td>...</td>\n",
       "      <td>...</td>\n",
       "      <td>...</td>\n",
       "      <td>...</td>\n",
       "      <td>...</td>\n",
       "    </tr>\n",
       "    <tr>\n",
       "      <th>63234</th>\n",
       "      <td>http://www.allocine.fr/personne/fichepersonne_...</td>\n",
       "      <td>[1107, 1096, 1310, 1106, 184]</td>\n",
       "      <td>16</td>\n",
       "      <td>allocine personne fichepersonne gen cpersonne</td>\n",
       "      <td>[1107, 1096, 1310, 1106, 184]</td>\n",
       "    </tr>\n",
       "    <tr>\n",
       "      <th>63235</th>\n",
       "      <td>https://www.sto.cx/book-186042-471.html</td>\n",
       "      <td>[608, 617, 1033, 220, 1021]</td>\n",
       "      <td>1</td>\n",
       "      <td>sto book</td>\n",
       "      <td>[608, 617, 220, 1021]</td>\n",
       "    </tr>\n",
       "    <tr>\n",
       "      <th>63236</th>\n",
       "      <td>http://jeu.info/solution/4-images-1-mot-niveau...</td>\n",
       "      <td>[381, 925, 622, 1494, 937]</td>\n",
       "      <td>16</td>\n",
       "      <td>jeu info solution images mot niveau</td>\n",
       "      <td>[381, 925, 622, 1494, 937]</td>\n",
       "    </tr>\n",
       "    <tr>\n",
       "      <th>63237</th>\n",
       "      <td>https://grossesse.aufeminin.com/forum/levres-g...</td>\n",
       "      <td>[638, 253, 419, 558, 401]</td>\n",
       "      <td>1</td>\n",
       "      <td>grossesse aufeminin forum levres gonflees acco...</td>\n",
       "      <td>[253, 419, 558, 401]</td>\n",
       "    </tr>\n",
       "    <tr>\n",
       "      <th>63238</th>\n",
       "      <td>https://www.conforama.fr/chambre-literie/liter...</td>\n",
       "      <td>[1367, 1372, 1368, 1370, 1369]</td>\n",
       "      <td>16</td>\n",
       "      <td>conforama chambre literie literie sommier cadr...</td>\n",
       "      <td>[1367, 1372, 1368, 1370, 1369]</td>\n",
       "    </tr>\n",
       "  </tbody>\n",
       "</table>\n",
       "<p>63239 rows × 5 columns</p>\n",
       "</div>"
      ],
      "text/plain": [
       "                                                     url  \\\n",
       "0      https://www.cdiscount.com/bricolage/electricit...   \n",
       "1         https://www.mystalk.net/profile/vitoriafcorrea   \n",
       "2      https://www.lequipe.fr/Tennis/TennisFicheJoueu...   \n",
       "3      http://m.jeuxvideo.com/forums/42-32625-6018005...   \n",
       "4      https://context.reverso.net/traduction/espagno...   \n",
       "...                                                  ...   \n",
       "63234  http://www.allocine.fr/personne/fichepersonne_...   \n",
       "63235            https://www.sto.cx/book-186042-471.html   \n",
       "63236  http://jeu.info/solution/4-images-1-mot-niveau...   \n",
       "63237  https://grossesse.aufeminin.com/forum/levres-g...   \n",
       "63238  https://www.conforama.fr/chambre-literie/liter...   \n",
       "\n",
       "                               target  day  \\\n",
       "0       [1831, 1751, 1192, 745, 1703]    4   \n",
       "1          [847, 978, 582, 1381, 529]    4   \n",
       "2                     [20, 1077, 294]    4   \n",
       "3          [381, 935, 1343, 622, 933]    4   \n",
       "4        [692, 1265, 725, 1264, 1266]    4   \n",
       "...                               ...  ...   \n",
       "63234   [1107, 1096, 1310, 1106, 184]   16   \n",
       "63235     [608, 617, 1033, 220, 1021]    1   \n",
       "63236      [381, 925, 622, 1494, 937]   16   \n",
       "63237       [638, 253, 419, 558, 401]    1   \n",
       "63238  [1367, 1372, 1368, 1370, 1369]   16   \n",
       "\n",
       "                                             url_cleaned  \\\n",
       "0      cdiscount bricolage electricite batterie plomb...   \n",
       "1                         mystalk profile vitoriafcorrea   \n",
       "2                            lequipe Tennis Tennis Fiche   \n",
       "3      jeuxvideo forums guilde fourmi legionnaire rec...   \n",
       "4      context reverso traduction espagnol francais Para   \n",
       "...                                                  ...   \n",
       "63234      allocine personne fichepersonne gen cpersonne   \n",
       "63235                                           sto book   \n",
       "63236                jeu info solution images mot niveau   \n",
       "63237  grossesse aufeminin forum levres gonflees acco...   \n",
       "63238  conforama chambre literie literie sommier cadr...   \n",
       "\n",
       "                       target_cleaned  \n",
       "0                              [1192]  \n",
       "1                     [978, 582, 529]  \n",
       "2                         [1077, 294]  \n",
       "3          [381, 935, 1343, 622, 933]  \n",
       "4        [692, 1265, 725, 1264, 1266]  \n",
       "...                               ...  \n",
       "63234   [1107, 1096, 1310, 1106, 184]  \n",
       "63235           [608, 617, 220, 1021]  \n",
       "63236      [381, 925, 622, 1494, 937]  \n",
       "63237            [253, 419, 558, 401]  \n",
       "63238  [1367, 1372, 1368, 1370, 1369]  \n",
       "\n",
       "[63239 rows x 5 columns]"
      ]
     },
     "execution_count": 27,
     "metadata": {},
     "output_type": "execute_result"
    }
   ],
   "source": [
    "data"
   ]
  },
  {
   "cell_type": "code",
   "execution_count": 28,
   "metadata": {
    "execution": {
     "iopub.execute_input": "2022-05-23T13:18:11.183775Z",
     "iopub.status.busy": "2022-05-23T13:18:11.182787Z",
     "iopub.status.idle": "2022-05-23T13:18:11.794291Z",
     "shell.execute_reply": "2022-05-23T13:18:11.793299Z",
     "shell.execute_reply.started": "2022-05-23T13:18:11.183775Z"
    },
    "tags": []
   },
   "outputs": [],
   "source": [
    "import pickle\n",
    "\n",
    "\n",
    "with open(DATA_PATH + 'data_cleaned.pickle', 'wb') as handle:\n",
    "    pickle.dump(data, handle, protocol=pickle.HIGHEST_PROTOCOL)"
   ]
  },
  {
   "cell_type": "code",
   "execution_count": 29,
   "metadata": {
    "execution": {
     "iopub.execute_input": "2022-05-23T13:18:12.734980Z",
     "iopub.status.busy": "2022-05-23T13:18:12.733981Z",
     "iopub.status.idle": "2022-05-23T13:18:12.746977Z",
     "shell.execute_reply": "2022-05-23T13:18:12.744976Z",
     "shell.execute_reply.started": "2022-05-23T13:18:12.734980Z"
    },
    "tags": []
   },
   "outputs": [
    {
     "name": "stdout",
     "output_type": "stream",
     "text": [
      "Current Python Version- 3.8.3\n"
     ]
    }
   ],
   "source": [
    "from platform import python_version\n",
    "print(\"Current Python Version-\", python_version())"
   ]
  },
  {
   "cell_type": "code",
   "execution_count": 30,
   "metadata": {
    "execution": {
     "iopub.execute_input": "2022-05-23T13:18:17.493983Z",
     "iopub.status.busy": "2022-05-23T13:18:17.492985Z",
     "iopub.status.idle": "2022-05-23T13:18:17.510995Z",
     "shell.execute_reply": "2022-05-23T13:18:17.506981Z",
     "shell.execute_reply.started": "2022-05-23T13:18:17.493983Z"
    },
    "tags": []
   },
   "outputs": [],
   "source": [
    "# data.to_csv(DATA_PATH + 'data_cleaned.csv')"
   ]
  }
 ],
 "metadata": {
  "kernelspec": {
   "display_name": "Python 3",
   "language": "python",
   "name": "python3"
  },
  "language_info": {
   "codemirror_mode": {
    "name": "ipython",
    "version": 3
   },
   "file_extension": ".py",
   "mimetype": "text/x-python",
   "name": "python",
   "nbconvert_exporter": "python",
   "pygments_lexer": "ipython3",
   "version": "3.8.3"
  }
 },
 "nbformat": 4,
 "nbformat_minor": 4
}

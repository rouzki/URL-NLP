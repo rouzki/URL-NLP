{
 "cells": [
  {
   "cell_type": "code",
   "execution_count": 2,
   "metadata": {
    "execution": {
     "iopub.execute_input": "2022-05-30T10:06:53.621434Z",
     "iopub.status.busy": "2022-05-30T10:06:53.621434Z",
     "iopub.status.idle": "2022-05-30T10:07:10.122717Z",
     "shell.execute_reply": "2022-05-30T10:07:10.121717Z",
     "shell.execute_reply.started": "2022-05-30T10:06:53.621434Z"
    },
    "tags": []
   },
   "outputs": [
    {
     "name": "stderr",
     "output_type": "stream",
     "text": [
      "C:\\ProgramData\\Anaconda3\\lib\\site-packages\\numpy\\_distributor_init.py:30: UserWarning: loaded more than 1 DLL from .libs:\n",
      "C:\\ProgramData\\Anaconda3\\lib\\site-packages\\numpy\\.libs\\libopenblas.EL2C6PLE4ZYW3ECEVIV3OXXGRN2NRFM2.gfortran-win_amd64.dll\n",
      "C:\\ProgramData\\Anaconda3\\lib\\site-packages\\numpy\\.libs\\libopenblas.gk7gx5keq4f6uyo3p26ulgbqyhgqo7j4.gfortran-win_amd64.dll\n",
      "C:\\ProgramData\\Anaconda3\\lib\\site-packages\\numpy\\.libs\\libopenblas.WCDJNK7YVMPZQ2ME2ZZHJJRJ3JIKNDB7.gfortran-win_amd64.dll\n",
      "  warnings.warn(\"loaded more than 1 DLL from .libs:\"\n"
     ]
    }
   ],
   "source": [
    "import torch\n",
    "import numpy as np\n",
    "import pickle\n",
    "from transformers import AutoTokenizer"
   ]
  },
  {
   "cell_type": "code",
   "execution_count": 3,
   "metadata": {
    "execution": {
     "iopub.execute_input": "2022-05-30T10:07:10.125716Z",
     "iopub.status.busy": "2022-05-30T10:07:10.124714Z",
     "iopub.status.idle": "2022-05-30T10:07:10.138717Z",
     "shell.execute_reply": "2022-05-30T10:07:10.136723Z",
     "shell.execute_reply.started": "2022-05-30T10:07:10.125716Z"
    },
    "tags": []
   },
   "outputs": [],
   "source": [
    "import re\n",
    "from setuptools.namespaces import flatten\n",
    "from urllib.parse import urlparse, unquote_plus"
   ]
  },
  {
   "cell_type": "code",
   "execution_count": 4,
   "metadata": {
    "execution": {
     "iopub.execute_input": "2022-05-30T10:07:10.142719Z",
     "iopub.status.busy": "2022-05-30T10:07:10.141719Z",
     "iopub.status.idle": "2022-05-30T10:07:10.154715Z",
     "shell.execute_reply": "2022-05-30T10:07:10.152726Z",
     "shell.execute_reply.started": "2022-05-30T10:07:10.142719Z"
    },
    "tags": []
   },
   "outputs": [],
   "source": [
    "MODEL_PATH = \"../inference/service/models\"\n",
    "TOKENIZER_NAME = \"bert-base-multilingual-uncased\""
   ]
  },
  {
   "cell_type": "code",
   "execution_count": 5,
   "metadata": {
    "execution": {
     "iopub.execute_input": "2022-05-30T10:07:10.157717Z",
     "iopub.status.busy": "2022-05-30T10:07:10.156716Z",
     "iopub.status.idle": "2022-05-30T10:07:13.074411Z",
     "shell.execute_reply": "2022-05-30T10:07:13.073407Z",
     "shell.execute_reply.started": "2022-05-30T10:07:10.157717Z"
    },
    "tags": []
   },
   "outputs": [],
   "source": [
    "model = torch.load(MODEL_PATH + \"/model_finetuned.h5\", map_location='cpu')"
   ]
  },
  {
   "cell_type": "code",
   "execution_count": 6,
   "metadata": {
    "execution": {
     "iopub.execute_input": "2022-05-30T10:07:13.075358Z",
     "iopub.status.busy": "2022-05-30T10:07:13.074411Z",
     "iopub.status.idle": "2022-05-30T10:07:13.089361Z",
     "shell.execute_reply": "2022-05-30T10:07:13.088359Z",
     "shell.execute_reply.started": "2022-05-30T10:07:13.075358Z"
    },
    "tags": []
   },
   "outputs": [
    {
     "name": "stderr",
     "output_type": "stream",
     "text": [
      "C:\\ProgramData\\Anaconda3\\lib\\site-packages\\sklearn\\base.py:329: UserWarning: Trying to unpickle estimator MultiLabelBinarizer from version 1.0.2 when using version 0.23.2. This might lead to breaking code or invalid results. Use at your own risk.\n",
      "  warnings.warn(\n"
     ]
    }
   ],
   "source": [
    "with open(MODEL_PATH + '/mlb.pickle', 'rb') as handle:\n",
    "    mlb = pickle.load(handle)"
   ]
  },
  {
   "cell_type": "code",
   "execution_count": 7,
   "metadata": {
    "execution": {
     "iopub.execute_input": "2022-05-30T10:07:25.387151Z",
     "iopub.status.busy": "2022-05-30T10:07:25.387151Z",
     "iopub.status.idle": "2022-05-30T10:07:25.406137Z",
     "shell.execute_reply": "2022-05-30T10:07:25.405137Z",
     "shell.execute_reply.started": "2022-05-30T10:07:25.387151Z"
    },
    "tags": []
   },
   "outputs": [],
   "source": [
    "def preprocess_url(url):\n",
    "    ## convert to urlparse with quoted\n",
    "    url_parsed = urlparse(unquote_plus(url))\n",
    "    ## join all url attributes\n",
    "    url_text = ''.join(x for x in [url_parsed.netloc, url_parsed.path, url_parsed.params, url_parsed.query])\n",
    "    \n",
    "    ## split url to tokens ie: words\n",
    "    tokens = re.split('[- _ % : , / \\. \\+ = ]', url_text)\n",
    "    ## spliting by upper case\n",
    "    \n",
    "    tokens = list(flatten([re.split(r'(?<![A-Z\\W])(?=[A-Z])', s) for s in tokens]))\n",
    "    ## delete token with digits with len < 2\n",
    "    tokens = [token for token in tokens if (not any(c.isdigit() for c in token)) and (not len(token) <=2)]\n",
    "    tokens = [token for token in tokens if token not in ['www', 'html', 'com', 'net', 'org']]\n",
    "    return ' '.join(token for token in tokens)"
   ]
  },
  {
   "cell_type": "code",
   "execution_count": 8,
   "metadata": {
    "execution": {
     "iopub.execute_input": "2022-05-30T10:07:26.118216Z",
     "iopub.status.busy": "2022-05-30T10:07:26.117214Z",
     "iopub.status.idle": "2022-05-30T10:07:26.137157Z",
     "shell.execute_reply": "2022-05-30T10:07:26.136155Z",
     "shell.execute_reply.started": "2022-05-30T10:07:26.118216Z"
    },
    "tags": []
   },
   "outputs": [],
   "source": [
    "# urls_cleaned = [preprocess_url(url) for url in URLs]\n",
    "# urls_cleaned"
   ]
  },
  {
   "cell_type": "code",
   "execution_count": 9,
   "metadata": {
    "execution": {
     "iopub.execute_input": "2022-05-30T10:07:26.738201Z",
     "iopub.status.busy": "2022-05-30T10:07:26.737200Z",
     "iopub.status.idle": "2022-05-30T10:07:34.479557Z",
     "shell.execute_reply": "2022-05-30T10:07:34.476541Z",
     "shell.execute_reply.started": "2022-05-30T10:07:26.738201Z"
    },
    "tags": []
   },
   "outputs": [],
   "source": [
    "tokenizer = AutoTokenizer.from_pretrained(\n",
    "    TOKENIZER_NAME, map_location=torch.device(\"cpu\")\n",
    ")"
   ]
  },
  {
   "cell_type": "code",
   "execution_count": 1,
   "metadata": {
    "execution": {
     "iopub.execute_input": "2022-05-30T10:06:46.775033Z",
     "iopub.status.busy": "2022-05-30T10:06:46.774035Z",
     "iopub.status.idle": "2022-05-30T10:06:46.804038Z",
     "shell.execute_reply": "2022-05-30T10:06:46.801032Z",
     "shell.execute_reply.started": "2022-05-30T10:06:46.775033Z"
    },
    "jupyter": {
     "source_hidden": true
    },
    "tags": []
   },
   "outputs": [],
   "source": [
    "# # import torch\n",
    "# # from utils import *\n",
    "\n",
    "\n",
    "# URLs = [\n",
    "#     \"https://www.cdiscount.com/bricolage/electricite/batterie-plomb-6v-4ah-ova51023e-pour-toplux/f-16614-ova2009927775303.html\"\n",
    "# ]\n",
    "\n",
    "# urls_cleaned = [preprocess_url(url) for url in URLs]\n",
    "\n",
    "# from transformers import AutoTokenizer\n",
    "\n",
    "\n",
    "# inputs = tokenizer(\n",
    "#     urls_cleaned,\n",
    "#     truncation=True,\n",
    "#     add_special_tokens=True,\n",
    "#     max_length=40,\n",
    "#     return_token_type_ids=False,\n",
    "#     padding=\"max_length\",\n",
    "#     return_attention_mask=True,\n",
    "#     return_tensors=\"pt\",\n",
    "# )\n",
    "\n",
    "# # model.eval()\n",
    "# out = model(inputs[\"input_ids\"], attention_mask=inputs[\"attention_mask\"])\n",
    "\n",
    "# pred_probs = torch.sigmoid(out).detach().numpy()\n",
    "# pred_bools = np.where(pred_probs > 0.5, 1, 0)\n",
    "# print(mlb.inverse_transform(pred_bools))"
   ]
  },
  {
   "cell_type": "code",
   "execution_count": 10,
   "metadata": {
    "execution": {
     "iopub.execute_input": "2022-05-30T10:07:35.844986Z",
     "iopub.status.busy": "2022-05-30T10:07:35.843936Z",
     "iopub.status.idle": "2022-05-30T10:07:36.163030Z",
     "shell.execute_reply": "2022-05-30T10:07:36.162029Z",
     "shell.execute_reply.started": "2022-05-30T10:07:35.844986Z"
    },
    "tags": []
   },
   "outputs": [
    {
     "name": "stdout",
     "output_type": "stream",
     "text": [
      "['ladepeche cyril hanouna couple avec laeticia hallyday repond dans tpmp php', 'orange webmail continue htmljsessionid']\n"
     ]
    },
    {
     "data": {
      "text/plain": [
       "{'urls': ['https://www.ladepeche.fr/2019/12/17/cyril-hanouna-en-couple-avec-laeticia-hallyday-il-repond-dans-tpmp,8610297.php',\n",
       "  'https://webmail1k.orange.fr/webmail/fr_FR/continue.html;jsessionid=EE87C6577FA68F2D500E15BC0816BA12.1CF0203943E1663B1DB4'],\n",
       " 'predictions': [('184',), ('104', '384', '394')]}"
      ]
     },
     "execution_count": 10,
     "metadata": {},
     "output_type": "execute_result"
    }
   ],
   "source": [
    "urls = [\n",
    "    \"https://www.ladepeche.fr/2019/12/17/cyril-hanouna-en-couple-avec-laeticia-hallyday-il-repond-dans-tpmp,8610297.php\",\n",
    "    \"https://webmail1k.orange.fr/webmail/fr_FR/continue.html;jsessionid=EE87C6577FA68F2D500E15BC0816BA12.1CF0203943E1663B1DB4\",\n",
    "]\n",
    "cleaned_urls = [preprocess_url(url) for url in urls]\n",
    "print(cleaned_urls)\n",
    "inputs = tokenizer(\n",
    "    cleaned_urls,\n",
    "    truncation=True,\n",
    "    add_special_tokens=True,\n",
    "    max_length=40,\n",
    "    return_token_type_ids=False,\n",
    "    padding=\"max_length\",\n",
    "    return_attention_mask=True,\n",
    "    return_tensors=\"pt\",\n",
    ")\n",
    "\n",
    "out = model(inputs[\"input_ids\"], attention_mask=inputs[\"attention_mask\"])\n",
    "\n",
    "pred_probs = torch.sigmoid(out).detach().numpy()\n",
    "\n",
    "pred_bools = np.where(pred_probs > 0.5, 1, 0)\n",
    "\n",
    "{\"urls\": urls, \"predictions\": mlb.inverse_transform(pred_bools)}"
   ]
  },
  {
   "cell_type": "code",
   "execution_count": 11,
   "metadata": {
    "execution": {
     "iopub.execute_input": "2022-05-30T10:07:41.369133Z",
     "iopub.status.busy": "2022-05-30T10:07:41.367146Z",
     "iopub.status.idle": "2022-05-30T10:07:41.389139Z",
     "shell.execute_reply": "2022-05-30T10:07:41.386186Z",
     "shell.execute_reply.started": "2022-05-30T10:07:41.369133Z"
    },
    "tags": []
   },
   "outputs": [],
   "source": [
    "import torch.onnx"
   ]
  },
  {
   "cell_type": "code",
   "execution_count": 12,
   "metadata": {
    "execution": {
     "iopub.execute_input": "2022-05-30T10:07:42.090681Z",
     "iopub.status.busy": "2022-05-30T10:07:42.089681Z",
     "iopub.status.idle": "2022-05-30T10:07:42.298890Z",
     "shell.execute_reply": "2022-05-30T10:07:42.297890Z",
     "shell.execute_reply.started": "2022-05-30T10:07:42.090681Z"
    },
    "tags": []
   },
   "outputs": [
    {
     "data": {
      "text/plain": [
       "tensor([[True, True, True, True, True, True, True, True, True, True, True, True,\n",
       "         True, True, True, True, True, True, True, True, True, True, True, True,\n",
       "         True, True, True, True, True, True, True, True, True, True, True, True,\n",
       "         True, True, True, True, True, True, True, True, True, True, True, True,\n",
       "         True, True, True, True, True, True, True, True, True, True, True, True,\n",
       "         True, True, True, True, True, True, True, True, True, True, True, True,\n",
       "         True, True, True, True, True, True, True, True, True, True, True, True,\n",
       "         True, True, True, True, True, True, True, True, True, True, True, True,\n",
       "         True, True, True, True, True, True, True, True, True, True, True, True,\n",
       "         True, True, True, True, True, True, True, True, True, True, True, True,\n",
       "         True, True, True, True, True, True, True, True, True, True, True, True,\n",
       "         True, True, True, True, True, True, True, True, True, True, True, True,\n",
       "         True, True, True, True, True, True, True, True, True, True, True, True,\n",
       "         True, True, True, True, True, True, True, True, True, True, True, True,\n",
       "         True, True, True, True, True, True, True, True, True, True, True, True,\n",
       "         True, True, True, True, True, True, True, True, True, True, True, True,\n",
       "         True, True, True, True, True, True, True, True, True, True, True, True,\n",
       "         True, True, True, True, True, True, True, True, True, True, True, True,\n",
       "         True, True, True, True, True, True, True, True, True, True, True, True,\n",
       "         True, True, True, True, True, True, True, True, True, True, True, True,\n",
       "         True, True, True, True, True, True, True, True, True, True, True, True,\n",
       "         True, True, True, True, True, True, True, True, True, True, True, True,\n",
       "         True, True, True],\n",
       "        [True, True, True, True, True, True, True, True, True, True, True, True,\n",
       "         True, True, True, True, True, True, True, True, True, True, True, True,\n",
       "         True, True, True, True, True, True, True, True, True, True, True, True,\n",
       "         True, True, True, True, True, True, True, True, True, True, True, True,\n",
       "         True, True, True, True, True, True, True, True, True, True, True, True,\n",
       "         True, True, True, True, True, True, True, True, True, True, True, True,\n",
       "         True, True, True, True, True, True, True, True, True, True, True, True,\n",
       "         True, True, True, True, True, True, True, True, True, True, True, True,\n",
       "         True, True, True, True, True, True, True, True, True, True, True, True,\n",
       "         True, True, True, True, True, True, True, True, True, True, True, True,\n",
       "         True, True, True, True, True, True, True, True, True, True, True, True,\n",
       "         True, True, True, True, True, True, True, True, True, True, True, True,\n",
       "         True, True, True, True, True, True, True, True, True, True, True, True,\n",
       "         True, True, True, True, True, True, True, True, True, True, True, True,\n",
       "         True, True, True, True, True, True, True, True, True, True, True, True,\n",
       "         True, True, True, True, True, True, True, True, True, True, True, True,\n",
       "         True, True, True, True, True, True, True, True, True, True, True, True,\n",
       "         True, True, True, True, True, True, True, True, True, True, True, True,\n",
       "         True, True, True, True, True, True, True, True, True, True, True, True,\n",
       "         True, True, True, True, True, True, True, True, True, True, True, True,\n",
       "         True, True, True, True, True, True, True, True, True, True, True, True,\n",
       "         True, True, True, True, True, True, True, True, True, True, True, True,\n",
       "         True, True, True]])"
      ]
     },
     "execution_count": 12,
     "metadata": {},
     "output_type": "execute_result"
    }
   ],
   "source": [
    "torch_out = model(**inputs)\n",
    "out == torch_out"
   ]
  },
  {
   "cell_type": "code",
   "execution_count": 13,
   "metadata": {
    "execution": {
     "iopub.execute_input": "2022-05-25T18:39:56.605896Z",
     "iopub.status.busy": "2022-05-25T18:39:56.604832Z",
     "iopub.status.idle": "2022-05-25T18:39:56.758811Z",
     "shell.execute_reply": "2022-05-25T18:39:56.757858Z",
     "shell.execute_reply.started": "2022-05-25T18:39:56.605896Z"
    },
    "tags": []
   },
   "outputs": [],
   "source": [
    "input_ids = inputs['input_ids']\n",
    "input_mask = inputs['attention_mask']\n",
    "\n",
    "with torch.no_grad():\n",
    "    torch_out = model(**inputs)\n",
    "\n",
    "torch.onnx.export(model,\n",
    "                  (input_ids, input_mask),\n",
    "                  \"model.onnx\",\n",
    "                  input_names=['input_ids', 'attention_mask'],\n",
    "                  output_names=['output'],\n",
    "                  dynamic_axes={\n",
    "                      \"input_ids\": {0: \"batch_size\"},\n",
    "                      \"input_mask\": {0: \"batch_size\"},\n",
    "                      \"output\": {0: \"output\"}\n",
    "                  },\n",
    "                  opset_version=11,\n",
    "                  )"
   ]
  },
  {
   "cell_type": "code",
   "execution_count": 14,
   "metadata": {
    "execution": {
     "iopub.execute_input": "2022-05-25T18:40:06.824321Z",
     "iopub.status.busy": "2022-05-25T18:40:06.823320Z",
     "iopub.status.idle": "2022-05-25T18:40:06.842339Z",
     "shell.execute_reply": "2022-05-25T18:40:06.841343Z",
     "shell.execute_reply.started": "2022-05-25T18:40:06.824321Z"
    },
    "tags": []
   },
   "outputs": [],
   "source": [
    "# !pip install onnx"
   ]
  },
  {
   "cell_type": "code",
   "execution_count": 13,
   "metadata": {
    "execution": {
     "iopub.execute_input": "2022-05-30T10:07:49.549922Z",
     "iopub.status.busy": "2022-05-30T10:07:49.548922Z",
     "iopub.status.idle": "2022-05-30T10:07:52.810680Z",
     "shell.execute_reply": "2022-05-30T10:07:52.809725Z",
     "shell.execute_reply.started": "2022-05-30T10:07:49.549922Z"
    },
    "tags": []
   },
   "outputs": [],
   "source": [
    "import onnx\n",
    "\n",
    "onnx_model = onnx.load(\"model.onnx\")\n",
    "onnx.checker.check_model(onnx_model)"
   ]
  },
  {
   "cell_type": "code",
   "execution_count": 14,
   "metadata": {
    "execution": {
     "iopub.execute_input": "2022-05-30T10:07:53.687173Z",
     "iopub.status.busy": "2022-05-30T10:07:53.687173Z",
     "iopub.status.idle": "2022-05-30T10:07:53.709184Z",
     "shell.execute_reply": "2022-05-30T10:07:53.707184Z",
     "shell.execute_reply.started": "2022-05-30T10:07:53.687173Z"
    },
    "tags": []
   },
   "outputs": [],
   "source": [
    "import time"
   ]
  },
  {
   "cell_type": "code",
   "execution_count": 15,
   "metadata": {
    "execution": {
     "iopub.execute_input": "2022-05-30T10:07:54.301288Z",
     "iopub.status.busy": "2022-05-30T10:07:54.300286Z",
     "iopub.status.idle": "2022-05-30T10:07:55.612815Z",
     "shell.execute_reply": "2022-05-30T10:07:55.611814Z",
     "shell.execute_reply.started": "2022-05-30T10:07:54.301288Z"
    },
    "tags": []
   },
   "outputs": [],
   "source": [
    "import onnxruntime\n",
    "\n",
    "ort_session = onnxruntime.InferenceSession(\"model.onnx\")\n",
    "\n",
    "def to_numpy(tensor):\n",
    "    return tensor.detach().cpu().numpy() if tensor.requires_grad else tensor.cpu().numpy()\n",
    "\n",
    "# compute ONNX Runtime output prediction\n",
    "ort_inputs = {\n",
    "    ort_session.get_inputs()[0].name: to_numpy(inputs[\"input_ids\"]),\n",
    "    ort_session.get_inputs()[1].name: to_numpy(inputs[\"attention_mask\"]),\n",
    "}\n",
    "ort_outs = ort_session.run(None, ort_inputs)\n",
    "\n",
    "# # compare ONNX Runtime and PyTorch results\n",
    "# np.testing.assert_allclose(to_numpy(torch_out), ort_outs[0], rtol=1e-03, atol=1e-05)\n",
    "\n",
    "# print(\"Exported model has been tested with ONNXRuntime, and the result looks good!\")"
   ]
  },
  {
   "cell_type": "code",
   "execution_count": 16,
   "metadata": {
    "execution": {
     "iopub.execute_input": "2022-05-30T10:07:56.015197Z",
     "iopub.status.busy": "2022-05-30T10:07:56.015197Z",
     "iopub.status.idle": "2022-05-30T10:07:56.025196Z",
     "shell.execute_reply": "2022-05-30T10:07:56.024195Z",
     "shell.execute_reply.started": "2022-05-30T10:07:56.015197Z"
    },
    "tags": []
   },
   "outputs": [],
   "source": [
    "# ort_outs"
   ]
  },
  {
   "cell_type": "code",
   "execution_count": 17,
   "metadata": {
    "execution": {
     "iopub.execute_input": "2022-05-30T10:07:56.416017Z",
     "iopub.status.busy": "2022-05-30T10:07:56.416017Z",
     "iopub.status.idle": "2022-05-30T10:07:56.435061Z",
     "shell.execute_reply": "2022-05-30T10:07:56.434061Z",
     "shell.execute_reply.started": "2022-05-30T10:07:56.416017Z"
    },
    "tags": []
   },
   "outputs": [
    {
     "data": {
      "text/plain": [
       "{'urls': ['https://www.ladepeche.fr/2019/12/17/cyril-hanouna-en-couple-avec-laeticia-hallyday-il-repond-dans-tpmp,8610297.php',\n",
       "  'https://webmail1k.orange.fr/webmail/fr_FR/continue.html;jsessionid=EE87C6577FA68F2D500E15BC0816BA12.1CF0203943E1663B1DB4'],\n",
       " 'predictions': [('184',), ('104', '384', '394')]}"
      ]
     },
     "execution_count": 17,
     "metadata": {},
     "output_type": "execute_result"
    }
   ],
   "source": [
    "pred_probs = torch.sigmoid(torch.Tensor(ort_outs[0]))\n",
    "pred_probs\n",
    "pred_bools = np.where(pred_probs > 0.5, 1, 0)\n",
    "pred_bools\n",
    "{\"urls\": urls, \"predictions\": mlb.inverse_transform(pred_bools)}"
   ]
  },
  {
   "cell_type": "code",
   "execution_count": null,
   "metadata": {},
   "outputs": [],
   "source": []
  },
  {
   "cell_type": "code",
   "execution_count": 2,
   "metadata": {
    "execution": {
     "iopub.execute_input": "2022-05-26T21:28:01.736500Z",
     "iopub.status.busy": "2022-05-26T21:28:01.735503Z",
     "iopub.status.idle": "2022-05-26T21:28:01.932727Z",
     "shell.execute_reply": "2022-05-26T21:28:01.931763Z",
     "shell.execute_reply.started": "2022-05-26T21:28:01.736500Z"
    },
    "tags": []
   },
   "outputs": [
    {
     "name": "stderr",
     "output_type": "stream",
     "text": [
      "C:\\ProgramData\\Anaconda3\\lib\\site-packages\\numpy\\_distributor_init.py:30: UserWarning: loaded more than 1 DLL from .libs:\n",
      "C:\\ProgramData\\Anaconda3\\lib\\site-packages\\numpy\\.libs\\libopenblas.EL2C6PLE4ZYW3ECEVIV3OXXGRN2NRFM2.gfortran-win_amd64.dll\n",
      "C:\\ProgramData\\Anaconda3\\lib\\site-packages\\numpy\\.libs\\libopenblas.gk7gx5keq4f6uyo3p26ulgbqyhgqo7j4.gfortran-win_amd64.dll\n",
      "C:\\ProgramData\\Anaconda3\\lib\\site-packages\\numpy\\.libs\\libopenblas.WCDJNK7YVMPZQ2ME2ZZHJJRJ3JIKNDB7.gfortran-win_amd64.dll\n",
      "  warnings.warn(\"loaded more than 1 DLL from .libs:\"\n"
     ]
    }
   ],
   "source": [
    "import os\n",
    "import pickle\n",
    "\n",
    "path = 'models_trained/'\n",
    "models_scoring = {}\n",
    "for model_dir in os.listdir(path):\n",
    "    with open(path + model_dir + '/model_scoring.pickle', 'rb') as handle:\n",
    "        models_scoring[model_dir] = pickle.load(handle)[1]"
   ]
  },
  {
   "cell_type": "code",
   "execution_count": 3,
   "metadata": {
    "execution": {
     "iopub.execute_input": "2022-05-26T21:28:04.789756Z",
     "iopub.status.busy": "2022-05-26T21:28:04.789756Z",
     "iopub.status.idle": "2022-05-26T21:28:04.801682Z",
     "shell.execute_reply": "2022-05-26T21:28:04.798682Z",
     "shell.execute_reply.started": "2022-05-26T21:28:04.789756Z"
    },
    "tags": []
   },
   "outputs": [],
   "source": [
    "list_models = models_scoring.keys()"
   ]
  },
  {
   "cell_type": "code",
   "execution_count": 4,
   "metadata": {
    "execution": {
     "iopub.execute_input": "2022-05-26T21:28:05.934426Z",
     "iopub.status.busy": "2022-05-26T21:28:05.933463Z",
     "iopub.status.idle": "2022-05-26T21:28:06.469733Z",
     "shell.execute_reply": "2022-05-26T21:28:06.468769Z",
     "shell.execute_reply.started": "2022-05-26T21:28:05.934426Z"
    },
    "tags": []
   },
   "outputs": [
    {
     "data": {
      "text/html": [
       "<div>\n",
       "<style scoped>\n",
       "    .dataframe tbody tr th:only-of-type {\n",
       "        vertical-align: middle;\n",
       "    }\n",
       "\n",
       "    .dataframe tbody tr th {\n",
       "        vertical-align: top;\n",
       "    }\n",
       "\n",
       "    .dataframe thead th {\n",
       "        text-align: right;\n",
       "    }\n",
       "</style>\n",
       "<table border=\"1\" class=\"dataframe\">\n",
       "  <thead>\n",
       "    <tr style=\"text-align: right;\">\n",
       "      <th></th>\n",
       "      <th>Accuracy</th>\n",
       "      <th>Hamming loss</th>\n",
       "      <th>AUC</th>\n",
       "      <th>F1 score macro</th>\n",
       "      <th>F1 score micro</th>\n",
       "      <th>F1 score weighted</th>\n",
       "    </tr>\n",
       "  </thead>\n",
       "  <tbody>\n",
       "    <tr>\n",
       "      <th>bertm_5epochs_dropout</th>\n",
       "      <td>0.073055</td>\n",
       "      <td>0.009498</td>\n",
       "      <td>0.611556</td>\n",
       "      <td>0.244681</td>\n",
       "      <td>0.510260</td>\n",
       "      <td>0.406705</td>\n",
       "    </tr>\n",
       "    <tr>\n",
       "      <th>bertm_5epochs_dropout_concat</th>\n",
       "      <td>0.187065</td>\n",
       "      <td>0.008338</td>\n",
       "      <td>0.741633</td>\n",
       "      <td>0.528397</td>\n",
       "      <td>0.638434</td>\n",
       "      <td>0.608079</td>\n",
       "    </tr>\n",
       "    <tr>\n",
       "      <th>bertm_5epochs_dropout_freezing_concat</th>\n",
       "      <td>0.025142</td>\n",
       "      <td>0.011390</td>\n",
       "      <td>0.537301</td>\n",
       "      <td>0.093941</td>\n",
       "      <td>0.268745</td>\n",
       "      <td>0.197125</td>\n",
       "    </tr>\n",
       "    <tr>\n",
       "      <th>bertm_5epochs_nodropout</th>\n",
       "      <td>0.077008</td>\n",
       "      <td>0.009460</td>\n",
       "      <td>0.613980</td>\n",
       "      <td>0.250530</td>\n",
       "      <td>0.515028</td>\n",
       "      <td>0.411921</td>\n",
       "    </tr>\n",
       "    <tr>\n",
       "      <th>camembert_5epochs_nodropout</th>\n",
       "      <td>0.047755</td>\n",
       "      <td>0.010287</td>\n",
       "      <td>0.566295</td>\n",
       "      <td>0.134595</td>\n",
       "      <td>0.438133</td>\n",
       "      <td>0.308513</td>\n",
       "    </tr>\n",
       "    <tr>\n",
       "      <th>flaubert_5epochs_nodropout</th>\n",
       "      <td>0.000158</td>\n",
       "      <td>0.012761</td>\n",
       "      <td>0.501113</td>\n",
       "      <td>0.003392</td>\n",
       "      <td>0.011651</td>\n",
       "      <td>0.008895</td>\n",
       "    </tr>\n",
       "  </tbody>\n",
       "</table>\n",
       "</div>"
      ],
      "text/plain": [
       "                                       Accuracy  Hamming loss       AUC  \\\n",
       "bertm_5epochs_dropout                  0.073055      0.009498  0.611556   \n",
       "bertm_5epochs_dropout_concat           0.187065      0.008338  0.741633   \n",
       "bertm_5epochs_dropout_freezing_concat  0.025142      0.011390  0.537301   \n",
       "bertm_5epochs_nodropout                0.077008      0.009460  0.613980   \n",
       "camembert_5epochs_nodropout            0.047755      0.010287  0.566295   \n",
       "flaubert_5epochs_nodropout             0.000158      0.012761  0.501113   \n",
       "\n",
       "                                       F1 score macro  F1 score micro  \\\n",
       "bertm_5epochs_dropout                        0.244681        0.510260   \n",
       "bertm_5epochs_dropout_concat                 0.528397        0.638434   \n",
       "bertm_5epochs_dropout_freezing_concat        0.093941        0.268745   \n",
       "bertm_5epochs_nodropout                      0.250530        0.515028   \n",
       "camembert_5epochs_nodropout                  0.134595        0.438133   \n",
       "flaubert_5epochs_nodropout                   0.003392        0.011651   \n",
       "\n",
       "                                       F1 score weighted  \n",
       "bertm_5epochs_dropout                           0.406705  \n",
       "bertm_5epochs_dropout_concat                    0.608079  \n",
       "bertm_5epochs_dropout_freezing_concat           0.197125  \n",
       "bertm_5epochs_nodropout                         0.411921  \n",
       "camembert_5epochs_nodropout                     0.308513  \n",
       "flaubert_5epochs_nodropout                      0.008895  "
      ]
     },
     "execution_count": 4,
     "metadata": {},
     "output_type": "execute_result"
    }
   ],
   "source": [
    "import pandas as pd\n",
    "\n",
    "pd.DataFrame.from_dict(models_scoring).T"
   ]
  },
  {
   "cell_type": "code",
   "execution_count": 6,
   "metadata": {
    "execution": {
     "iopub.execute_input": "2022-05-26T21:28:29.032605Z",
     "iopub.status.busy": "2022-05-26T21:28:29.031596Z",
     "iopub.status.idle": "2022-05-26T21:28:29.048587Z",
     "shell.execute_reply": "2022-05-26T21:28:29.045601Z",
     "shell.execute_reply.started": "2022-05-26T21:28:29.031596Z"
    },
    "tags": []
   },
   "outputs": [],
   "source": [
    "MODEL_PATH = \"models_trained/camembert_5epochs_nodropout/\"\n",
    "with open(MODEL_PATH + 'model_scoring.pickle', 'rb') as handle:\n",
    "    camembert_scoring = pickle.load(handle)"
   ]
  },
  {
   "cell_type": "code",
   "execution_count": 7,
   "metadata": {
    "execution": {
     "iopub.execute_input": "2022-05-26T21:28:43.926933Z",
     "iopub.status.busy": "2022-05-26T21:28:43.925932Z",
     "iopub.status.idle": "2022-05-26T21:28:43.949919Z",
     "shell.execute_reply": "2022-05-26T21:28:43.946931Z",
     "shell.execute_reply.started": "2022-05-26T21:28:43.926933Z"
    },
    "tags": []
   },
   "outputs": [],
   "source": [
    "MODEL_PATH = \"models_trained/bertm_5epochs_dropout_concat/\"\n",
    "with open(MODEL_PATH + 'model_scoring.pickle', 'rb') as handle:\n",
    "    bertm_scoring = pickle.load(handle)"
   ]
  },
  {
   "cell_type": "code",
   "execution_count": 14,
   "metadata": {
    "execution": {
     "iopub.execute_input": "2022-05-26T23:49:23.785019Z",
     "iopub.status.busy": "2022-05-26T23:49:23.783020Z",
     "iopub.status.idle": "2022-05-26T23:49:23.843003Z",
     "shell.execute_reply": "2022-05-26T23:49:23.842038Z",
     "shell.execute_reply.started": "2022-05-26T23:49:23.785019Z"
    },
    "tags": []
   },
   "outputs": [
    {
     "data": {
      "text/html": [
       "<div>\n",
       "<style scoped>\n",
       "    .dataframe tbody tr th:only-of-type {\n",
       "        vertical-align: middle;\n",
       "    }\n",
       "\n",
       "    .dataframe tbody tr th {\n",
       "        vertical-align: top;\n",
       "    }\n",
       "\n",
       "    .dataframe thead th {\n",
       "        text-align: right;\n",
       "    }\n",
       "</style>\n",
       "<table border=\"1\" class=\"dataframe\">\n",
       "  <thead>\n",
       "    <tr style=\"text-align: right;\">\n",
       "      <th></th>\n",
       "      <th>epoch</th>\n",
       "      <th>Training Loss</th>\n",
       "      <th>Valid. Loss</th>\n",
       "      <th>Accuracy</th>\n",
       "      <th>Hamming loss</th>\n",
       "      <th>AUC</th>\n",
       "      <th>F1 score macro</th>\n",
       "      <th>F1 score micro</th>\n",
       "      <th>F1 score weighted</th>\n",
       "    </tr>\n",
       "  </thead>\n",
       "  <tbody>\n",
       "    <tr>\n",
       "      <th>0</th>\n",
       "      <td>1</td>\n",
       "      <td>0.000038</td>\n",
       "      <td>0.030879</td>\n",
       "      <td>0.081789</td>\n",
       "      <td>0.009589</td>\n",
       "      <td>0.620673</td>\n",
       "      <td>0.263846</td>\n",
       "      <td>0.516877</td>\n",
       "      <td>0.413826</td>\n",
       "    </tr>\n",
       "    <tr>\n",
       "      <th>1</th>\n",
       "      <td>2</td>\n",
       "      <td>0.000020</td>\n",
       "      <td>0.026968</td>\n",
       "      <td>0.135904</td>\n",
       "      <td>0.008887</td>\n",
       "      <td>0.691126</td>\n",
       "      <td>0.418586</td>\n",
       "      <td>0.595395</td>\n",
       "      <td>0.530535</td>\n",
       "    </tr>\n",
       "    <tr>\n",
       "      <th>2</th>\n",
       "      <td>3</td>\n",
       "      <td>0.000017</td>\n",
       "      <td>0.025524</td>\n",
       "      <td>0.159185</td>\n",
       "      <td>0.008435</td>\n",
       "      <td>0.713323</td>\n",
       "      <td>0.478819</td>\n",
       "      <td>0.615158</td>\n",
       "      <td>0.570034</td>\n",
       "    </tr>\n",
       "    <tr>\n",
       "      <th>3</th>\n",
       "      <td>4</td>\n",
       "      <td>0.000016</td>\n",
       "      <td>0.024917</td>\n",
       "      <td>0.175349</td>\n",
       "      <td>0.008241</td>\n",
       "      <td>0.722537</td>\n",
       "      <td>0.502466</td>\n",
       "      <td>0.631775</td>\n",
       "      <td>0.591850</td>\n",
       "    </tr>\n",
       "    <tr>\n",
       "      <th>4</th>\n",
       "      <td>5</td>\n",
       "      <td>0.000015</td>\n",
       "      <td>0.025002</td>\n",
       "      <td>0.188966</td>\n",
       "      <td>0.008305</td>\n",
       "      <td>0.745129</td>\n",
       "      <td>0.534929</td>\n",
       "      <td>0.641245</td>\n",
       "      <td>0.612088</td>\n",
       "    </tr>\n",
       "  </tbody>\n",
       "</table>\n",
       "</div>"
      ],
      "text/plain": [
       "   epoch  Training Loss  Valid. Loss  Accuracy  Hamming loss       AUC  \\\n",
       "0      1       0.000038     0.030879  0.081789      0.009589  0.620673   \n",
       "1      2       0.000020     0.026968  0.135904      0.008887  0.691126   \n",
       "2      3       0.000017     0.025524  0.159185      0.008435  0.713323   \n",
       "3      4       0.000016     0.024917  0.175349      0.008241  0.722537   \n",
       "4      5       0.000015     0.025002  0.188966      0.008305  0.745129   \n",
       "\n",
       "   F1 score macro  F1 score micro  F1 score weighted  \n",
       "0        0.263846        0.516877           0.413826  \n",
       "1        0.418586        0.595395           0.530535  \n",
       "2        0.478819        0.615158           0.570034  \n",
       "3        0.502466        0.631775           0.591850  \n",
       "4        0.534929        0.641245           0.612088  "
      ]
     },
     "execution_count": 14,
     "metadata": {},
     "output_type": "execute_result"
    }
   ],
   "source": [
    "model_history = pd.DataFrame.from_dict(bertm_scoring[0])\n",
    "model_history"
   ]
  },
  {
   "cell_type": "code",
   "execution_count": 16,
   "metadata": {
    "execution": {
     "iopub.execute_input": "2022-05-26T23:50:19.493216Z",
     "iopub.status.busy": "2022-05-26T23:50:19.491270Z",
     "iopub.status.idle": "2022-05-26T23:50:19.728072Z",
     "shell.execute_reply": "2022-05-26T23:50:19.727131Z",
     "shell.execute_reply.started": "2022-05-26T23:50:19.493216Z"
    },
    "tags": []
   },
   "outputs": [
    {
     "data": {
      "image/png": "[encoded data removed]",
      "text/plain": [
       "<Figure size 864x432 with 1 Axes>"
      ]
     },
     "metadata": {},
     "output_type": "display_data"
    }
   ],
   "source": [
    "import matplotlib.pyplot as plt\n",
    "%matplotlib inline\n",
    "\n",
    "import seaborn as sns\n",
    "\n",
    "sns.set(style='darkgrid')\n",
    "\n",
    "sns.set(font_scale=1.5)\n",
    "plt.rcParams[\"figure.figsize\"] = (12,6)\n",
    "\n",
    "plt.plot(model_history['Training Loss'] * 1423, 'b-o', label=\"Training\")\n",
    "plt.plot(model_history['Valid. Loss'], 'g-o', label=\"Validation\")\n",
    "\n",
    "plt.title(\"Training & Validation Loss\")\n",
    "plt.xlabel(\"Epoch\")\n",
    "plt.ylabel(\"Loss\")\n",
    "plt.legend()\n",
    "plt.xticks([1, 2, 3, 4])\n",
    "\n",
    "plt.show()"
   ]
  },
  {
   "cell_type": "code",
   "execution_count": null,
   "metadata": {},
   "outputs": [],
   "source": []
  },
  {
   "cell_type": "code",
   "execution_count": null,
   "metadata": {},
   "outputs": [],
   "source": []
  }
 ],
 "metadata": {
  "kernelspec": {
   "display_name": "Python 3",
   "language": "python",
   "name": "python3"
  },
  "language_info": {
   "codemirror_mode": {
    "name": "ipython",
    "version": 3
   },
   "file_extension": ".py",
   "mimetype": "text/x-python",
   "name": "python",
   "nbconvert_exporter": "python",
   "pygments_lexer": "ipython3",
   "version": "3.8.3"
  }
 },
 "nbformat": 4,
 "nbformat_minor": 4
}
